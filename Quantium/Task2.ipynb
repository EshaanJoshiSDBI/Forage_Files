{
 "cells": [
  {
   "cell_type": "code",
   "execution_count": 1,
   "id": "ffbddb3d-c408-4f5e-9127-6ef7811b2088",
   "metadata": {},
   "outputs": [],
   "source": [
    "import numpy as np\n",
    "import pandas as pd\n",
    "import seaborn as sns\n",
    "import matplotlib.pyplot as plt\n",
    "import scipy as sp\n",
    "from statistics import stdev\n",
    "import warnings\n",
    "warnings.simplefilter(action='ignore', category=FutureWarning)"
   ]
  },
  {
   "cell_type": "code",
   "execution_count": 2,
   "id": "7e4b440d-585c-4cd2-9640-19ffea6d555f",
   "metadata": {},
   "outputs": [],
   "source": [
    "df = pd.read_csv('QVI_data.csv')"
   ]
  },
  {
   "cell_type": "code",
   "execution_count": 3,
   "id": "0248673e-173d-4315-85d6-5d6aa9c1567a",
   "metadata": {},
   "outputs": [
    {
     "data": {
      "text/html": [
       "<div>\n",
       "<style scoped>\n",
       "    .dataframe tbody tr th:only-of-type {\n",
       "        vertical-align: middle;\n",
       "    }\n",
       "\n",
       "    .dataframe tbody tr th {\n",
       "        vertical-align: top;\n",
       "    }\n",
       "\n",
       "    .dataframe thead th {\n",
       "        text-align: right;\n",
       "    }\n",
       "</style>\n",
       "<table border=\"1\" class=\"dataframe\">\n",
       "  <thead>\n",
       "    <tr style=\"text-align: right;\">\n",
       "      <th></th>\n",
       "      <th>LYLTY_CARD_NBR</th>\n",
       "      <th>DATE</th>\n",
       "      <th>STORE_NBR</th>\n",
       "      <th>TXN_ID</th>\n",
       "      <th>PROD_NBR</th>\n",
       "      <th>PROD_NAME</th>\n",
       "      <th>PROD_QTY</th>\n",
       "      <th>TOT_SALES</th>\n",
       "      <th>PACK_SIZE</th>\n",
       "      <th>BRAND</th>\n",
       "      <th>LIFESTAGE</th>\n",
       "      <th>PREMIUM_CUSTOMER</th>\n",
       "    </tr>\n",
       "  </thead>\n",
       "  <tbody>\n",
       "    <tr>\n",
       "      <th>0</th>\n",
       "      <td>1000</td>\n",
       "      <td>2018-10-17</td>\n",
       "      <td>1</td>\n",
       "      <td>1</td>\n",
       "      <td>5</td>\n",
       "      <td>Natural Chip        Compny SeaSalt175g</td>\n",
       "      <td>2</td>\n",
       "      <td>6.0</td>\n",
       "      <td>175</td>\n",
       "      <td>NATURAL</td>\n",
       "      <td>YOUNG SINGLES/COUPLES</td>\n",
       "      <td>Premium</td>\n",
       "    </tr>\n",
       "    <tr>\n",
       "      <th>1</th>\n",
       "      <td>1002</td>\n",
       "      <td>2018-09-16</td>\n",
       "      <td>1</td>\n",
       "      <td>2</td>\n",
       "      <td>58</td>\n",
       "      <td>Red Rock Deli Chikn&amp;Garlic Aioli 150g</td>\n",
       "      <td>1</td>\n",
       "      <td>2.7</td>\n",
       "      <td>150</td>\n",
       "      <td>RRD</td>\n",
       "      <td>YOUNG SINGLES/COUPLES</td>\n",
       "      <td>Mainstream</td>\n",
       "    </tr>\n",
       "    <tr>\n",
       "      <th>2</th>\n",
       "      <td>1003</td>\n",
       "      <td>2019-03-07</td>\n",
       "      <td>1</td>\n",
       "      <td>3</td>\n",
       "      <td>52</td>\n",
       "      <td>Grain Waves Sour    Cream&amp;Chives 210G</td>\n",
       "      <td>1</td>\n",
       "      <td>3.6</td>\n",
       "      <td>210</td>\n",
       "      <td>GRNWVES</td>\n",
       "      <td>YOUNG FAMILIES</td>\n",
       "      <td>Budget</td>\n",
       "    </tr>\n",
       "    <tr>\n",
       "      <th>3</th>\n",
       "      <td>1003</td>\n",
       "      <td>2019-03-08</td>\n",
       "      <td>1</td>\n",
       "      <td>4</td>\n",
       "      <td>106</td>\n",
       "      <td>Natural ChipCo      Hony Soy Chckn175g</td>\n",
       "      <td>1</td>\n",
       "      <td>3.0</td>\n",
       "      <td>175</td>\n",
       "      <td>NATURAL</td>\n",
       "      <td>YOUNG FAMILIES</td>\n",
       "      <td>Budget</td>\n",
       "    </tr>\n",
       "    <tr>\n",
       "      <th>4</th>\n",
       "      <td>1004</td>\n",
       "      <td>2018-11-02</td>\n",
       "      <td>1</td>\n",
       "      <td>5</td>\n",
       "      <td>96</td>\n",
       "      <td>WW Original Stacked Chips 160g</td>\n",
       "      <td>1</td>\n",
       "      <td>1.9</td>\n",
       "      <td>160</td>\n",
       "      <td>WOOLWORTHS</td>\n",
       "      <td>OLDER SINGLES/COUPLES</td>\n",
       "      <td>Mainstream</td>\n",
       "    </tr>\n",
       "  </tbody>\n",
       "</table>\n",
       "</div>"
      ],
      "text/plain": [
       "   LYLTY_CARD_NBR        DATE  STORE_NBR  TXN_ID  PROD_NBR  \\\n",
       "0            1000  2018-10-17          1       1         5   \n",
       "1            1002  2018-09-16          1       2        58   \n",
       "2            1003  2019-03-07          1       3        52   \n",
       "3            1003  2019-03-08          1       4       106   \n",
       "4            1004  2018-11-02          1       5        96   \n",
       "\n",
       "                                PROD_NAME  PROD_QTY  TOT_SALES  PACK_SIZE  \\\n",
       "0  Natural Chip        Compny SeaSalt175g         2        6.0        175   \n",
       "1   Red Rock Deli Chikn&Garlic Aioli 150g         1        2.7        150   \n",
       "2   Grain Waves Sour    Cream&Chives 210G         1        3.6        210   \n",
       "3  Natural ChipCo      Hony Soy Chckn175g         1        3.0        175   \n",
       "4          WW Original Stacked Chips 160g         1        1.9        160   \n",
       "\n",
       "        BRAND              LIFESTAGE PREMIUM_CUSTOMER  \n",
       "0     NATURAL  YOUNG SINGLES/COUPLES          Premium  \n",
       "1         RRD  YOUNG SINGLES/COUPLES       Mainstream  \n",
       "2     GRNWVES         YOUNG FAMILIES           Budget  \n",
       "3     NATURAL         YOUNG FAMILIES           Budget  \n",
       "4  WOOLWORTHS  OLDER SINGLES/COUPLES       Mainstream  "
      ]
     },
     "execution_count": 3,
     "metadata": {},
     "output_type": "execute_result"
    }
   ],
   "source": [
    "df.head()"
   ]
  },
  {
   "cell_type": "code",
   "execution_count": 4,
   "id": "6f8042a7-c385-4162-b245-acedd1e2105a",
   "metadata": {},
   "outputs": [
    {
     "name": "stdout",
     "output_type": "stream",
     "text": [
      "<class 'pandas.core.frame.DataFrame'>\n",
      "RangeIndex: 264834 entries, 0 to 264833\n",
      "Data columns (total 12 columns):\n",
      " #   Column            Non-Null Count   Dtype  \n",
      "---  ------            --------------   -----  \n",
      " 0   LYLTY_CARD_NBR    264834 non-null  int64  \n",
      " 1   DATE              264834 non-null  object \n",
      " 2   STORE_NBR         264834 non-null  int64  \n",
      " 3   TXN_ID            264834 non-null  int64  \n",
      " 4   PROD_NBR          264834 non-null  int64  \n",
      " 5   PROD_NAME         264834 non-null  object \n",
      " 6   PROD_QTY          264834 non-null  int64  \n",
      " 7   TOT_SALES         264834 non-null  float64\n",
      " 8   PACK_SIZE         264834 non-null  int64  \n",
      " 9   BRAND             264834 non-null  object \n",
      " 10  LIFESTAGE         264834 non-null  object \n",
      " 11  PREMIUM_CUSTOMER  264834 non-null  object \n",
      "dtypes: float64(1), int64(6), object(5)\n",
      "memory usage: 24.2+ MB\n"
     ]
    }
   ],
   "source": [
    "df.info()"
   ]
  },
  {
   "cell_type": "code",
   "execution_count": 5,
   "id": "bc85237d-de9b-4cb1-b891-17ef84d5b2bb",
   "metadata": {},
   "outputs": [
    {
     "data": {
      "text/html": [
       "<div>\n",
       "<style scoped>\n",
       "    .dataframe tbody tr th:only-of-type {\n",
       "        vertical-align: middle;\n",
       "    }\n",
       "\n",
       "    .dataframe tbody tr th {\n",
       "        vertical-align: top;\n",
       "    }\n",
       "\n",
       "    .dataframe thead th {\n",
       "        text-align: right;\n",
       "    }\n",
       "</style>\n",
       "<table border=\"1\" class=\"dataframe\">\n",
       "  <thead>\n",
       "    <tr style=\"text-align: right;\">\n",
       "      <th></th>\n",
       "      <th>LYLTY_CARD_NBR</th>\n",
       "      <th>STORE_NBR</th>\n",
       "      <th>TXN_ID</th>\n",
       "      <th>PROD_NBR</th>\n",
       "      <th>PROD_QTY</th>\n",
       "      <th>TOT_SALES</th>\n",
       "      <th>PACK_SIZE</th>\n",
       "    </tr>\n",
       "  </thead>\n",
       "  <tbody>\n",
       "    <tr>\n",
       "      <th>count</th>\n",
       "      <td>2.648340e+05</td>\n",
       "      <td>264834.000000</td>\n",
       "      <td>2.648340e+05</td>\n",
       "      <td>264834.000000</td>\n",
       "      <td>264834.000000</td>\n",
       "      <td>264834.000000</td>\n",
       "      <td>264834.000000</td>\n",
       "    </tr>\n",
       "    <tr>\n",
       "      <th>mean</th>\n",
       "      <td>1.355488e+05</td>\n",
       "      <td>135.079423</td>\n",
       "      <td>1.351576e+05</td>\n",
       "      <td>56.583554</td>\n",
       "      <td>1.905813</td>\n",
       "      <td>7.299346</td>\n",
       "      <td>182.425512</td>\n",
       "    </tr>\n",
       "    <tr>\n",
       "      <th>std</th>\n",
       "      <td>8.057990e+04</td>\n",
       "      <td>76.784063</td>\n",
       "      <td>7.813292e+04</td>\n",
       "      <td>32.826444</td>\n",
       "      <td>0.343436</td>\n",
       "      <td>2.527241</td>\n",
       "      <td>64.325148</td>\n",
       "    </tr>\n",
       "    <tr>\n",
       "      <th>min</th>\n",
       "      <td>1.000000e+03</td>\n",
       "      <td>1.000000</td>\n",
       "      <td>1.000000e+00</td>\n",
       "      <td>1.000000</td>\n",
       "      <td>1.000000</td>\n",
       "      <td>1.500000</td>\n",
       "      <td>70.000000</td>\n",
       "    </tr>\n",
       "    <tr>\n",
       "      <th>25%</th>\n",
       "      <td>7.002100e+04</td>\n",
       "      <td>70.000000</td>\n",
       "      <td>6.760050e+04</td>\n",
       "      <td>28.000000</td>\n",
       "      <td>2.000000</td>\n",
       "      <td>5.400000</td>\n",
       "      <td>150.000000</td>\n",
       "    </tr>\n",
       "    <tr>\n",
       "      <th>50%</th>\n",
       "      <td>1.303570e+05</td>\n",
       "      <td>130.000000</td>\n",
       "      <td>1.351365e+05</td>\n",
       "      <td>56.000000</td>\n",
       "      <td>2.000000</td>\n",
       "      <td>7.400000</td>\n",
       "      <td>170.000000</td>\n",
       "    </tr>\n",
       "    <tr>\n",
       "      <th>75%</th>\n",
       "      <td>2.030940e+05</td>\n",
       "      <td>203.000000</td>\n",
       "      <td>2.026998e+05</td>\n",
       "      <td>85.000000</td>\n",
       "      <td>2.000000</td>\n",
       "      <td>9.200000</td>\n",
       "      <td>175.000000</td>\n",
       "    </tr>\n",
       "    <tr>\n",
       "      <th>max</th>\n",
       "      <td>2.373711e+06</td>\n",
       "      <td>272.000000</td>\n",
       "      <td>2.415841e+06</td>\n",
       "      <td>114.000000</td>\n",
       "      <td>5.000000</td>\n",
       "      <td>29.500000</td>\n",
       "      <td>380.000000</td>\n",
       "    </tr>\n",
       "  </tbody>\n",
       "</table>\n",
       "</div>"
      ],
      "text/plain": [
       "       LYLTY_CARD_NBR      STORE_NBR        TXN_ID       PROD_NBR  \\\n",
       "count    2.648340e+05  264834.000000  2.648340e+05  264834.000000   \n",
       "mean     1.355488e+05     135.079423  1.351576e+05      56.583554   \n",
       "std      8.057990e+04      76.784063  7.813292e+04      32.826444   \n",
       "min      1.000000e+03       1.000000  1.000000e+00       1.000000   \n",
       "25%      7.002100e+04      70.000000  6.760050e+04      28.000000   \n",
       "50%      1.303570e+05     130.000000  1.351365e+05      56.000000   \n",
       "75%      2.030940e+05     203.000000  2.026998e+05      85.000000   \n",
       "max      2.373711e+06     272.000000  2.415841e+06     114.000000   \n",
       "\n",
       "            PROD_QTY      TOT_SALES      PACK_SIZE  \n",
       "count  264834.000000  264834.000000  264834.000000  \n",
       "mean        1.905813       7.299346     182.425512  \n",
       "std         0.343436       2.527241      64.325148  \n",
       "min         1.000000       1.500000      70.000000  \n",
       "25%         2.000000       5.400000     150.000000  \n",
       "50%         2.000000       7.400000     170.000000  \n",
       "75%         2.000000       9.200000     175.000000  \n",
       "max         5.000000      29.500000     380.000000  "
      ]
     },
     "execution_count": 5,
     "metadata": {},
     "output_type": "execute_result"
    }
   ],
   "source": [
    "df.describe()"
   ]
  },
  {
   "cell_type": "code",
   "execution_count": 6,
   "id": "a8e21fcd-33d8-4e09-baf2-716834eda917",
   "metadata": {},
   "outputs": [],
   "source": [
    "df['YEAR_MONTH'] = pd.to_numeric([''.join(i.split('-')[:2]) for i in df.DATE])"
   ]
  },
  {
   "cell_type": "code",
   "execution_count": 7,
   "id": "c4446ff4-df1c-49eb-b94c-1f7eeebcb824",
   "metadata": {},
   "outputs": [
    {
     "data": {
      "text/html": [
       "<div>\n",
       "<style scoped>\n",
       "    .dataframe tbody tr th:only-of-type {\n",
       "        vertical-align: middle;\n",
       "    }\n",
       "\n",
       "    .dataframe tbody tr th {\n",
       "        vertical-align: top;\n",
       "    }\n",
       "\n",
       "    .dataframe thead th {\n",
       "        text-align: right;\n",
       "    }\n",
       "</style>\n",
       "<table border=\"1\" class=\"dataframe\">\n",
       "  <thead>\n",
       "    <tr style=\"text-align: right;\">\n",
       "      <th></th>\n",
       "      <th>LYLTY_CARD_NBR</th>\n",
       "      <th>DATE</th>\n",
       "      <th>STORE_NBR</th>\n",
       "      <th>TXN_ID</th>\n",
       "      <th>PROD_NBR</th>\n",
       "      <th>PROD_NAME</th>\n",
       "      <th>PROD_QTY</th>\n",
       "      <th>TOT_SALES</th>\n",
       "      <th>PACK_SIZE</th>\n",
       "      <th>BRAND</th>\n",
       "      <th>LIFESTAGE</th>\n",
       "      <th>PREMIUM_CUSTOMER</th>\n",
       "      <th>YEAR_MONTH</th>\n",
       "    </tr>\n",
       "  </thead>\n",
       "  <tbody>\n",
       "    <tr>\n",
       "      <th>0</th>\n",
       "      <td>1000</td>\n",
       "      <td>2018-10-17</td>\n",
       "      <td>1</td>\n",
       "      <td>1</td>\n",
       "      <td>5</td>\n",
       "      <td>Natural Chip        Compny SeaSalt175g</td>\n",
       "      <td>2</td>\n",
       "      <td>6.0</td>\n",
       "      <td>175</td>\n",
       "      <td>NATURAL</td>\n",
       "      <td>YOUNG SINGLES/COUPLES</td>\n",
       "      <td>Premium</td>\n",
       "      <td>201810</td>\n",
       "    </tr>\n",
       "    <tr>\n",
       "      <th>1</th>\n",
       "      <td>1002</td>\n",
       "      <td>2018-09-16</td>\n",
       "      <td>1</td>\n",
       "      <td>2</td>\n",
       "      <td>58</td>\n",
       "      <td>Red Rock Deli Chikn&amp;Garlic Aioli 150g</td>\n",
       "      <td>1</td>\n",
       "      <td>2.7</td>\n",
       "      <td>150</td>\n",
       "      <td>RRD</td>\n",
       "      <td>YOUNG SINGLES/COUPLES</td>\n",
       "      <td>Mainstream</td>\n",
       "      <td>201809</td>\n",
       "    </tr>\n",
       "    <tr>\n",
       "      <th>2</th>\n",
       "      <td>1003</td>\n",
       "      <td>2019-03-07</td>\n",
       "      <td>1</td>\n",
       "      <td>3</td>\n",
       "      <td>52</td>\n",
       "      <td>Grain Waves Sour    Cream&amp;Chives 210G</td>\n",
       "      <td>1</td>\n",
       "      <td>3.6</td>\n",
       "      <td>210</td>\n",
       "      <td>GRNWVES</td>\n",
       "      <td>YOUNG FAMILIES</td>\n",
       "      <td>Budget</td>\n",
       "      <td>201903</td>\n",
       "    </tr>\n",
       "    <tr>\n",
       "      <th>3</th>\n",
       "      <td>1003</td>\n",
       "      <td>2019-03-08</td>\n",
       "      <td>1</td>\n",
       "      <td>4</td>\n",
       "      <td>106</td>\n",
       "      <td>Natural ChipCo      Hony Soy Chckn175g</td>\n",
       "      <td>1</td>\n",
       "      <td>3.0</td>\n",
       "      <td>175</td>\n",
       "      <td>NATURAL</td>\n",
       "      <td>YOUNG FAMILIES</td>\n",
       "      <td>Budget</td>\n",
       "      <td>201903</td>\n",
       "    </tr>\n",
       "    <tr>\n",
       "      <th>4</th>\n",
       "      <td>1004</td>\n",
       "      <td>2018-11-02</td>\n",
       "      <td>1</td>\n",
       "      <td>5</td>\n",
       "      <td>96</td>\n",
       "      <td>WW Original Stacked Chips 160g</td>\n",
       "      <td>1</td>\n",
       "      <td>1.9</td>\n",
       "      <td>160</td>\n",
       "      <td>WOOLWORTHS</td>\n",
       "      <td>OLDER SINGLES/COUPLES</td>\n",
       "      <td>Mainstream</td>\n",
       "      <td>201811</td>\n",
       "    </tr>\n",
       "  </tbody>\n",
       "</table>\n",
       "</div>"
      ],
      "text/plain": [
       "   LYLTY_CARD_NBR        DATE  STORE_NBR  TXN_ID  PROD_NBR  \\\n",
       "0            1000  2018-10-17          1       1         5   \n",
       "1            1002  2018-09-16          1       2        58   \n",
       "2            1003  2019-03-07          1       3        52   \n",
       "3            1003  2019-03-08          1       4       106   \n",
       "4            1004  2018-11-02          1       5        96   \n",
       "\n",
       "                                PROD_NAME  PROD_QTY  TOT_SALES  PACK_SIZE  \\\n",
       "0  Natural Chip        Compny SeaSalt175g         2        6.0        175   \n",
       "1   Red Rock Deli Chikn&Garlic Aioli 150g         1        2.7        150   \n",
       "2   Grain Waves Sour    Cream&Chives 210G         1        3.6        210   \n",
       "3  Natural ChipCo      Hony Soy Chckn175g         1        3.0        175   \n",
       "4          WW Original Stacked Chips 160g         1        1.9        160   \n",
       "\n",
       "        BRAND              LIFESTAGE PREMIUM_CUSTOMER  YEAR_MONTH  \n",
       "0     NATURAL  YOUNG SINGLES/COUPLES          Premium      201810  \n",
       "1         RRD  YOUNG SINGLES/COUPLES       Mainstream      201809  \n",
       "2     GRNWVES         YOUNG FAMILIES           Budget      201903  \n",
       "3     NATURAL         YOUNG FAMILIES           Budget      201903  \n",
       "4  WOOLWORTHS  OLDER SINGLES/COUPLES       Mainstream      201811  "
      ]
     },
     "execution_count": 7,
     "metadata": {},
     "output_type": "execute_result"
    }
   ],
   "source": [
    "df.head()"
   ]
  },
  {
   "cell_type": "code",
   "execution_count": 8,
   "id": "83253b76-01c8-4ba9-aaa8-fddba431cdbb",
   "metadata": {},
   "outputs": [],
   "source": [
    "missing_mnths = pd.pivot_table(df,index='STORE_NBR',columns='YEAR_MONTH',values='TXN_ID',aggfunc='count')"
   ]
  },
  {
   "cell_type": "code",
   "execution_count": 9,
   "id": "4351d6fd-c0b8-436e-b111-a1ab02094237",
   "metadata": {},
   "outputs": [],
   "source": [
    "rem_stores = missing_mnths[missing_mnths.isnull().any(axis=1)].index.tolist()"
   ]
  },
  {
   "cell_type": "code",
   "execution_count": 10,
   "id": "143f5e7c-4d67-4046-b869-7328b598561a",
   "metadata": {},
   "outputs": [],
   "source": [
    "sales = df.groupby(['STORE_NBR','YEAR_MONTH'])['TOT_SALES'].sum()"
   ]
  },
  {
   "cell_type": "code",
   "execution_count": 11,
   "id": "9d234a7d-fd76-4e0e-969a-09e804c7a7e9",
   "metadata": {},
   "outputs": [],
   "source": [
    "avgprice = df.groupby(['STORE_NBR','YEAR_MONTH'])['TOT_SALES'].sum() / df.groupby(['STORE_NBR','YEAR_MONTH'])['PROD_QTY'].sum()"
   ]
  },
  {
   "cell_type": "code",
   "execution_count": 12,
   "id": "7051431b-cb0a-416c-8804-e799fb316e1b",
   "metadata": {},
   "outputs": [],
   "source": [
    "count_custs = df.groupby(['STORE_NBR','YEAR_MONTH'])['LYLTY_CARD_NBR'].nunique()"
   ]
  },
  {
   "cell_type": "code",
   "execution_count": 13,
   "id": "8cefe019-73e0-43da-97ca-f3bfecf624f0",
   "metadata": {},
   "outputs": [],
   "source": [
    "txn_cust = pd.DataFrame(df.groupby(['STORE_NBR','YEAR_MONTH'])['TXN_ID'].nunique() / df.groupby(['STORE_NBR','YEAR_MONTH'])['LYLTY_CARD_NBR'].nunique())\n",
    "# txn_cust.reset_index(inplace=True)"
   ]
  },
  {
   "cell_type": "code",
   "execution_count": 14,
   "id": "565f4245-e83e-4802-92be-290ed18d083a",
   "metadata": {},
   "outputs": [],
   "source": [
    "count_chips = df.groupby(['STORE_NBR','YEAR_MONTH'])['PROD_QTY'].sum() / df.groupby(['STORE_NBR','YEAR_MONTH'])['TXN_ID'].nunique()"
   ]
  },
  {
   "cell_type": "code",
   "execution_count": 15,
   "id": "43aa7199-6423-40d6-87be-f5b3bedfb377",
   "metadata": {},
   "outputs": [],
   "source": [
    "df_rollup = [sales,avgprice,count_custs,txn_cust,count_chips]"
   ]
  },
  {
   "cell_type": "code",
   "execution_count": 16,
   "id": "c5f08464-ac60-43f9-a06d-bef14306c7dd",
   "metadata": {},
   "outputs": [],
   "source": [
    "fin_df = pd.concat(df_rollup,join='outer',axis=1)\n",
    "fin_df.columns = ['TOT_SALES','AVG_PRICE_PER_UNIT','N_CUSTOMERS','N_CHIPS_CUSTS','N_CHIPS_TXN']\n",
    "fin_df.reset_index(inplace=True)"
   ]
  },
  {
   "cell_type": "code",
   "execution_count": 17,
   "id": "a4c0fa31-b97e-4701-995b-c416d69cd90f",
   "metadata": {},
   "outputs": [],
   "source": [
    "fin_df = fin_df[~fin_df['STORE_NBR'].isin(rem_stores)]"
   ]
  },
  {
   "cell_type": "code",
   "execution_count": 18,
   "id": "43beeef8-f817-476e-b787-85216dbe1f3d",
   "metadata": {},
   "outputs": [
    {
     "data": {
      "text/html": [
       "<div>\n",
       "<style scoped>\n",
       "    .dataframe tbody tr th:only-of-type {\n",
       "        vertical-align: middle;\n",
       "    }\n",
       "\n",
       "    .dataframe tbody tr th {\n",
       "        vertical-align: top;\n",
       "    }\n",
       "\n",
       "    .dataframe thead th {\n",
       "        text-align: right;\n",
       "    }\n",
       "</style>\n",
       "<table border=\"1\" class=\"dataframe\">\n",
       "  <thead>\n",
       "    <tr style=\"text-align: right;\">\n",
       "      <th></th>\n",
       "      <th>STORE_NBR</th>\n",
       "      <th>YEAR_MONTH</th>\n",
       "      <th>TOT_SALES</th>\n",
       "      <th>AVG_PRICE_PER_UNIT</th>\n",
       "      <th>N_CUSTOMERS</th>\n",
       "      <th>N_CHIPS_CUSTS</th>\n",
       "      <th>N_CHIPS_TXN</th>\n",
       "    </tr>\n",
       "  </thead>\n",
       "  <tbody>\n",
       "    <tr>\n",
       "      <th>0</th>\n",
       "      <td>1</td>\n",
       "      <td>201807</td>\n",
       "      <td>206.9</td>\n",
       "      <td>3.337097</td>\n",
       "      <td>49</td>\n",
       "      <td>1.061224</td>\n",
       "      <td>1.192308</td>\n",
       "    </tr>\n",
       "    <tr>\n",
       "      <th>1</th>\n",
       "      <td>1</td>\n",
       "      <td>201808</td>\n",
       "      <td>176.1</td>\n",
       "      <td>3.261111</td>\n",
       "      <td>42</td>\n",
       "      <td>1.023810</td>\n",
       "      <td>1.255814</td>\n",
       "    </tr>\n",
       "    <tr>\n",
       "      <th>2</th>\n",
       "      <td>1</td>\n",
       "      <td>201809</td>\n",
       "      <td>278.8</td>\n",
       "      <td>3.717333</td>\n",
       "      <td>59</td>\n",
       "      <td>1.050847</td>\n",
       "      <td>1.209677</td>\n",
       "    </tr>\n",
       "    <tr>\n",
       "      <th>3</th>\n",
       "      <td>1</td>\n",
       "      <td>201810</td>\n",
       "      <td>188.1</td>\n",
       "      <td>3.243103</td>\n",
       "      <td>44</td>\n",
       "      <td>1.022727</td>\n",
       "      <td>1.288889</td>\n",
       "    </tr>\n",
       "    <tr>\n",
       "      <th>4</th>\n",
       "      <td>1</td>\n",
       "      <td>201811</td>\n",
       "      <td>192.6</td>\n",
       "      <td>3.378947</td>\n",
       "      <td>46</td>\n",
       "      <td>1.021739</td>\n",
       "      <td>1.212766</td>\n",
       "    </tr>\n",
       "  </tbody>\n",
       "</table>\n",
       "</div>"
      ],
      "text/plain": [
       "   STORE_NBR  YEAR_MONTH  TOT_SALES  AVG_PRICE_PER_UNIT  N_CUSTOMERS  \\\n",
       "0          1      201807      206.9            3.337097           49   \n",
       "1          1      201808      176.1            3.261111           42   \n",
       "2          1      201809      278.8            3.717333           59   \n",
       "3          1      201810      188.1            3.243103           44   \n",
       "4          1      201811      192.6            3.378947           46   \n",
       "\n",
       "   N_CHIPS_CUSTS  N_CHIPS_TXN  \n",
       "0       1.061224     1.192308  \n",
       "1       1.023810     1.255814  \n",
       "2       1.050847     1.209677  \n",
       "3       1.022727     1.288889  \n",
       "4       1.021739     1.212766  "
      ]
     },
     "execution_count": 18,
     "metadata": {},
     "output_type": "execute_result"
    }
   ],
   "source": [
    "fin_df.head()"
   ]
  },
  {
   "cell_type": "code",
   "execution_count": 19,
   "id": "be3d8cef-b4c1-49e3-9e9a-15f30c3d3964",
   "metadata": {},
   "outputs": [],
   "source": [
    "pre_trial_df = fin_df.loc[fin_df['YEAR_MONTH'] < 201902,:]"
   ]
  },
  {
   "cell_type": "code",
   "execution_count": 20,
   "id": "7b32b172-d5ce-41d1-bc6b-9cb849b9c26a",
   "metadata": {},
   "outputs": [],
   "source": [
    "def control_store(trial,metric,weight_corr,data):\n",
    "    res = pd.DataFrame({'TrialStore':[],'ControlStore':[],'Correlation':[],'Score':[]})\n",
    "    trial_store = data.loc[data['STORE_NBR'] == trial,metric]\n",
    "    trial_store.reset_index(drop=True,inplace=True)\n",
    "    store_nbr = data['STORE_NBR'].unique()\n",
    "    for i in store_nbr:\n",
    "        temp = data.loc[data['STORE_NBR'] == i,metric]\n",
    "        temp.reset_index(drop=True,inplace=True)\n",
    "        score_ = abs(trial_store-temp)\n",
    "        score = np.mean(1-(score_-min(score_))/(max(score_)-min(score_)))\n",
    "        res = res.append({'TrialStore':trial,'ControlStore':i,'Correlation':temp.corr(trial_store),'Score':score},ignore_index=True)\n",
    "    res['fin_score'] = weight_corr * res['Correlation'] + (1-weight_corr) * res['Score']\n",
    "    res.set_index(['TrialStore','ControlStore'],inplace=True)\n",
    "    return res"
   ]
  },
  {
   "cell_type": "code",
   "execution_count": 21,
   "id": "9390c359-6020-4927-9788-718d254ca1a8",
   "metadata": {},
   "outputs": [],
   "source": [
    "trial_stores = [77,86,88]"
   ]
  },
  {
   "cell_type": "code",
   "execution_count": 22,
   "id": "9b8fd57e-b504-4c5d-b7b0-d9360215f9af",
   "metadata": {},
   "outputs": [
    {
     "data": {
      "text/plain": [
       "Index(['STORE_NBR', 'YEAR_MONTH', 'TOT_SALES', 'AVG_PRICE_PER_UNIT',\n",
       "       'N_CUSTOMERS', 'N_CHIPS_CUSTS', 'N_CHIPS_TXN'],\n",
       "      dtype='object')"
      ]
     },
     "execution_count": 22,
     "metadata": {},
     "output_type": "execute_result"
    }
   ],
   "source": [
    "pre_trial_df.columns"
   ]
  },
  {
   "cell_type": "code",
   "execution_count": 23,
   "id": "7cc428c7-a60f-43e5-9dc1-c8d2bbef13b1",
   "metadata": {},
   "outputs": [],
   "source": [
    "t_store = 77"
   ]
  },
  {
   "cell_type": "code",
   "execution_count": 24,
   "id": "1842e474-5ad1-46bd-a0ee-af67434a76ce",
   "metadata": {},
   "outputs": [],
   "source": [
    "tc_sales = control_store(t_store,'TOT_SALES',0.5,pre_trial_df)"
   ]
  },
  {
   "cell_type": "code",
   "execution_count": 25,
   "id": "b69b90fe-f546-4267-bb4f-4cae4c45d684",
   "metadata": {},
   "outputs": [
    {
     "data": {
      "text/html": [
       "<div>\n",
       "<style scoped>\n",
       "    .dataframe tbody tr th:only-of-type {\n",
       "        vertical-align: middle;\n",
       "    }\n",
       "\n",
       "    .dataframe tbody tr th {\n",
       "        vertical-align: top;\n",
       "    }\n",
       "\n",
       "    .dataframe thead th {\n",
       "        text-align: right;\n",
       "    }\n",
       "</style>\n",
       "<table border=\"1\" class=\"dataframe\">\n",
       "  <thead>\n",
       "    <tr style=\"text-align: right;\">\n",
       "      <th></th>\n",
       "      <th></th>\n",
       "      <th>Correlation</th>\n",
       "      <th>Score</th>\n",
       "      <th>fin_score</th>\n",
       "    </tr>\n",
       "    <tr>\n",
       "      <th>TrialStore</th>\n",
       "      <th>ControlStore</th>\n",
       "      <th></th>\n",
       "      <th></th>\n",
       "      <th></th>\n",
       "    </tr>\n",
       "  </thead>\n",
       "  <tbody>\n",
       "    <tr>\n",
       "      <th rowspan=\"5\" valign=\"top\">77.0</th>\n",
       "      <th>1.0</th>\n",
       "      <td>0.075218</td>\n",
       "      <td>0.408163</td>\n",
       "      <td>0.241691</td>\n",
       "    </tr>\n",
       "    <tr>\n",
       "      <th>2.0</th>\n",
       "      <td>-0.263079</td>\n",
       "      <td>0.590119</td>\n",
       "      <td>0.163520</td>\n",
       "    </tr>\n",
       "    <tr>\n",
       "      <th>3.0</th>\n",
       "      <td>0.806644</td>\n",
       "      <td>0.522914</td>\n",
       "      <td>0.664779</td>\n",
       "    </tr>\n",
       "    <tr>\n",
       "      <th>4.0</th>\n",
       "      <td>-0.263300</td>\n",
       "      <td>0.644934</td>\n",
       "      <td>0.190817</td>\n",
       "    </tr>\n",
       "    <tr>\n",
       "      <th>5.0</th>\n",
       "      <td>-0.110652</td>\n",
       "      <td>0.516320</td>\n",
       "      <td>0.202834</td>\n",
       "    </tr>\n",
       "  </tbody>\n",
       "</table>\n",
       "</div>"
      ],
      "text/plain": [
       "                         Correlation     Score  fin_score\n",
       "TrialStore ControlStore                                  \n",
       "77.0       1.0              0.075218  0.408163   0.241691\n",
       "           2.0             -0.263079  0.590119   0.163520\n",
       "           3.0              0.806644  0.522914   0.664779\n",
       "           4.0             -0.263300  0.644934   0.190817\n",
       "           5.0             -0.110652  0.516320   0.202834"
      ]
     },
     "execution_count": 25,
     "metadata": {},
     "output_type": "execute_result"
    }
   ],
   "source": [
    "tc_sales.head()"
   ]
  },
  {
   "cell_type": "code",
   "execution_count": 26,
   "id": "0cd70839-e158-4f83-8b51-d93142a87fb6",
   "metadata": {},
   "outputs": [],
   "source": [
    "tc_custs = control_store(t_store,'N_CUSTOMERS',0.5,pre_trial_df)"
   ]
  },
  {
   "cell_type": "code",
   "execution_count": 27,
   "id": "c0441b57-2ae1-4edc-bbc4-545d50e2451f",
   "metadata": {},
   "outputs": [
    {
     "data": {
      "text/html": [
       "<div>\n",
       "<style scoped>\n",
       "    .dataframe tbody tr th:only-of-type {\n",
       "        vertical-align: middle;\n",
       "    }\n",
       "\n",
       "    .dataframe tbody tr th {\n",
       "        vertical-align: top;\n",
       "    }\n",
       "\n",
       "    .dataframe thead th {\n",
       "        text-align: right;\n",
       "    }\n",
       "</style>\n",
       "<table border=\"1\" class=\"dataframe\">\n",
       "  <thead>\n",
       "    <tr style=\"text-align: right;\">\n",
       "      <th></th>\n",
       "      <th></th>\n",
       "      <th>Correlation</th>\n",
       "      <th>Score</th>\n",
       "      <th>fin_score</th>\n",
       "    </tr>\n",
       "    <tr>\n",
       "      <th>TrialStore</th>\n",
       "      <th>ControlStore</th>\n",
       "      <th></th>\n",
       "      <th></th>\n",
       "      <th></th>\n",
       "    </tr>\n",
       "  </thead>\n",
       "  <tbody>\n",
       "    <tr>\n",
       "      <th rowspan=\"5\" valign=\"top\">77.0</th>\n",
       "      <th>1.0</th>\n",
       "      <td>0.322168</td>\n",
       "      <td>0.663866</td>\n",
       "      <td>0.493017</td>\n",
       "    </tr>\n",
       "    <tr>\n",
       "      <th>2.0</th>\n",
       "      <td>-0.572051</td>\n",
       "      <td>0.471429</td>\n",
       "      <td>-0.050311</td>\n",
       "    </tr>\n",
       "    <tr>\n",
       "      <th>3.0</th>\n",
       "      <td>0.834207</td>\n",
       "      <td>0.489796</td>\n",
       "      <td>0.662002</td>\n",
       "    </tr>\n",
       "    <tr>\n",
       "      <th>4.0</th>\n",
       "      <td>-0.295639</td>\n",
       "      <td>0.498258</td>\n",
       "      <td>0.101310</td>\n",
       "    </tr>\n",
       "    <tr>\n",
       "      <th>5.0</th>\n",
       "      <td>0.370659</td>\n",
       "      <td>0.512605</td>\n",
       "      <td>0.441632</td>\n",
       "    </tr>\n",
       "  </tbody>\n",
       "</table>\n",
       "</div>"
      ],
      "text/plain": [
       "                         Correlation     Score  fin_score\n",
       "TrialStore ControlStore                                  \n",
       "77.0       1.0              0.322168  0.663866   0.493017\n",
       "           2.0             -0.572051  0.471429  -0.050311\n",
       "           3.0              0.834207  0.489796   0.662002\n",
       "           4.0             -0.295639  0.498258   0.101310\n",
       "           5.0              0.370659  0.512605   0.441632"
      ]
     },
     "execution_count": 27,
     "metadata": {},
     "output_type": "execute_result"
    }
   ],
   "source": [
    "tc_custs.head()"
   ]
  },
  {
   "cell_type": "code",
   "execution_count": 28,
   "id": "6fdf172c-c4db-4f64-8047-1260a8c0ff7c",
   "metadata": {},
   "outputs": [],
   "source": [
    "tc_avgprice = control_store(t_store,'AVG_PRICE_PER_UNIT',0.5,pre_trial_df)"
   ]
  },
  {
   "cell_type": "code",
   "execution_count": 29,
   "id": "bceafdf6-86e3-4682-b472-dc789893fa32",
   "metadata": {},
   "outputs": [
    {
     "data": {
      "text/html": [
       "<div>\n",
       "<style scoped>\n",
       "    .dataframe tbody tr th:only-of-type {\n",
       "        vertical-align: middle;\n",
       "    }\n",
       "\n",
       "    .dataframe tbody tr th {\n",
       "        vertical-align: top;\n",
       "    }\n",
       "\n",
       "    .dataframe thead th {\n",
       "        text-align: right;\n",
       "    }\n",
       "</style>\n",
       "<table border=\"1\" class=\"dataframe\">\n",
       "  <thead>\n",
       "    <tr style=\"text-align: right;\">\n",
       "      <th></th>\n",
       "      <th></th>\n",
       "      <th>Correlation</th>\n",
       "      <th>Score</th>\n",
       "      <th>fin_score</th>\n",
       "    </tr>\n",
       "    <tr>\n",
       "      <th>TrialStore</th>\n",
       "      <th>ControlStore</th>\n",
       "      <th></th>\n",
       "      <th></th>\n",
       "      <th></th>\n",
       "    </tr>\n",
       "  </thead>\n",
       "  <tbody>\n",
       "    <tr>\n",
       "      <th rowspan=\"5\" valign=\"top\">77.0</th>\n",
       "      <th>1.0</th>\n",
       "      <td>-0.842303</td>\n",
       "      <td>0.585197</td>\n",
       "      <td>-0.128553</td>\n",
       "    </tr>\n",
       "    <tr>\n",
       "      <th>2.0</th>\n",
       "      <td>0.250020</td>\n",
       "      <td>0.627857</td>\n",
       "      <td>0.438938</td>\n",
       "    </tr>\n",
       "    <tr>\n",
       "      <th>3.0</th>\n",
       "      <td>-0.002904</td>\n",
       "      <td>0.518489</td>\n",
       "      <td>0.257793</td>\n",
       "    </tr>\n",
       "    <tr>\n",
       "      <th>4.0</th>\n",
       "      <td>-0.407973</td>\n",
       "      <td>0.531141</td>\n",
       "      <td>0.061584</td>\n",
       "    </tr>\n",
       "    <tr>\n",
       "      <th>5.0</th>\n",
       "      <td>0.267377</td>\n",
       "      <td>0.510465</td>\n",
       "      <td>0.388921</td>\n",
       "    </tr>\n",
       "  </tbody>\n",
       "</table>\n",
       "</div>"
      ],
      "text/plain": [
       "                         Correlation     Score  fin_score\n",
       "TrialStore ControlStore                                  \n",
       "77.0       1.0             -0.842303  0.585197  -0.128553\n",
       "           2.0              0.250020  0.627857   0.438938\n",
       "           3.0             -0.002904  0.518489   0.257793\n",
       "           4.0             -0.407973  0.531141   0.061584\n",
       "           5.0              0.267377  0.510465   0.388921"
      ]
     },
     "execution_count": 29,
     "metadata": {},
     "output_type": "execute_result"
    }
   ],
   "source": [
    "tc_avgprice.head()"
   ]
  },
  {
   "cell_type": "code",
   "execution_count": 30,
   "id": "c1f860ef-e399-41a0-81ad-6857b29b28e8",
   "metadata": {},
   "outputs": [],
   "source": [
    "control_store_df = pd.concat([tc_sales['fin_score'],tc_custs['fin_score'],tc_avgprice['fin_score']],axis=1)\n",
    "control_store_df.columns = ['sales_score','custs_score','avgprice_score']"
   ]
  },
  {
   "cell_type": "code",
   "execution_count": 31,
   "id": "b79d84dd-9504-4ee0-b0ea-52621c2ec414",
   "metadata": {},
   "outputs": [
    {
     "data": {
      "text/html": [
       "<div>\n",
       "<style scoped>\n",
       "    .dataframe tbody tr th:only-of-type {\n",
       "        vertical-align: middle;\n",
       "    }\n",
       "\n",
       "    .dataframe tbody tr th {\n",
       "        vertical-align: top;\n",
       "    }\n",
       "\n",
       "    .dataframe thead th {\n",
       "        text-align: right;\n",
       "    }\n",
       "</style>\n",
       "<table border=\"1\" class=\"dataframe\">\n",
       "  <thead>\n",
       "    <tr style=\"text-align: right;\">\n",
       "      <th></th>\n",
       "      <th></th>\n",
       "      <th>sales_score</th>\n",
       "      <th>custs_score</th>\n",
       "      <th>avgprice_score</th>\n",
       "    </tr>\n",
       "    <tr>\n",
       "      <th>TrialStore</th>\n",
       "      <th>ControlStore</th>\n",
       "      <th></th>\n",
       "      <th></th>\n",
       "      <th></th>\n",
       "    </tr>\n",
       "  </thead>\n",
       "  <tbody>\n",
       "    <tr>\n",
       "      <th rowspan=\"5\" valign=\"top\">77.0</th>\n",
       "      <th>1.0</th>\n",
       "      <td>0.241691</td>\n",
       "      <td>0.493017</td>\n",
       "      <td>-0.128553</td>\n",
       "    </tr>\n",
       "    <tr>\n",
       "      <th>2.0</th>\n",
       "      <td>0.163520</td>\n",
       "      <td>-0.050311</td>\n",
       "      <td>0.438938</td>\n",
       "    </tr>\n",
       "    <tr>\n",
       "      <th>3.0</th>\n",
       "      <td>0.664779</td>\n",
       "      <td>0.662002</td>\n",
       "      <td>0.257793</td>\n",
       "    </tr>\n",
       "    <tr>\n",
       "      <th>4.0</th>\n",
       "      <td>0.190817</td>\n",
       "      <td>0.101310</td>\n",
       "      <td>0.061584</td>\n",
       "    </tr>\n",
       "    <tr>\n",
       "      <th>5.0</th>\n",
       "      <td>0.202834</td>\n",
       "      <td>0.441632</td>\n",
       "      <td>0.388921</td>\n",
       "    </tr>\n",
       "  </tbody>\n",
       "</table>\n",
       "</div>"
      ],
      "text/plain": [
       "                         sales_score  custs_score  avgprice_score\n",
       "TrialStore ControlStore                                          \n",
       "77.0       1.0              0.241691     0.493017       -0.128553\n",
       "           2.0              0.163520    -0.050311        0.438938\n",
       "           3.0              0.664779     0.662002        0.257793\n",
       "           4.0              0.190817     0.101310        0.061584\n",
       "           5.0              0.202834     0.441632        0.388921"
      ]
     },
     "execution_count": 31,
     "metadata": {},
     "output_type": "execute_result"
    }
   ],
   "source": [
    "control_store_df.head()"
   ]
  },
  {
   "cell_type": "code",
   "execution_count": 32,
   "id": "57eceaaa-fd10-49d7-a537-9ff534165e4c",
   "metadata": {},
   "outputs": [],
   "source": [
    "control_store_df['fin_score'] = (control_store_df['sales_score']+control_store_df['custs_score']+control_store_df['avgprice_score'])/3\n",
    "control_store_df.sort_values(by='fin_score',ascending=False,inplace=True)"
   ]
  },
  {
   "cell_type": "code",
   "execution_count": 33,
   "id": "ee029d73-62b2-4017-890c-2f6115e7d823",
   "metadata": {},
   "outputs": [
    {
     "data": {
      "text/html": [
       "<div>\n",
       "<style scoped>\n",
       "    .dataframe tbody tr th:only-of-type {\n",
       "        vertical-align: middle;\n",
       "    }\n",
       "\n",
       "    .dataframe tbody tr th {\n",
       "        vertical-align: top;\n",
       "    }\n",
       "\n",
       "    .dataframe thead th {\n",
       "        text-align: right;\n",
       "    }\n",
       "</style>\n",
       "<table border=\"1\" class=\"dataframe\">\n",
       "  <thead>\n",
       "    <tr style=\"text-align: right;\">\n",
       "      <th></th>\n",
       "      <th></th>\n",
       "      <th>sales_score</th>\n",
       "      <th>custs_score</th>\n",
       "      <th>avgprice_score</th>\n",
       "      <th>fin_score</th>\n",
       "    </tr>\n",
       "    <tr>\n",
       "      <th>TrialStore</th>\n",
       "      <th>ControlStore</th>\n",
       "      <th></th>\n",
       "      <th></th>\n",
       "      <th></th>\n",
       "      <th></th>\n",
       "    </tr>\n",
       "  </thead>\n",
       "  <tbody>\n",
       "    <tr>\n",
       "      <th rowspan=\"5\" valign=\"top\">77.0</th>\n",
       "      <th>157.0</th>\n",
       "      <td>0.580429</td>\n",
       "      <td>0.651573</td>\n",
       "      <td>0.751482</td>\n",
       "      <td>0.661161</td>\n",
       "    </tr>\n",
       "    <tr>\n",
       "      <th>167.0</th>\n",
       "      <td>0.590409</td>\n",
       "      <td>0.680385</td>\n",
       "      <td>0.527865</td>\n",
       "      <td>0.599553</td>\n",
       "    </tr>\n",
       "    <tr>\n",
       "      <th>162.0</th>\n",
       "      <td>0.610291</td>\n",
       "      <td>0.626244</td>\n",
       "      <td>0.537008</td>\n",
       "      <td>0.591181</td>\n",
       "    </tr>\n",
       "    <tr>\n",
       "      <th>84.0</th>\n",
       "      <td>0.656972</td>\n",
       "      <td>0.715000</td>\n",
       "      <td>0.341074</td>\n",
       "      <td>0.571015</td>\n",
       "    </tr>\n",
       "    <tr>\n",
       "      <th>71.0</th>\n",
       "      <td>0.789497</td>\n",
       "      <td>0.663123</td>\n",
       "      <td>0.257262</td>\n",
       "      <td>0.569961</td>\n",
       "    </tr>\n",
       "  </tbody>\n",
       "</table>\n",
       "</div>"
      ],
      "text/plain": [
       "                         sales_score  custs_score  avgprice_score  fin_score\n",
       "TrialStore ControlStore                                                     \n",
       "77.0       157.0            0.580429     0.651573        0.751482   0.661161\n",
       "           167.0            0.590409     0.680385        0.527865   0.599553\n",
       "           162.0            0.610291     0.626244        0.537008   0.591181\n",
       "           84.0             0.656972     0.715000        0.341074   0.571015\n",
       "           71.0             0.789497     0.663123        0.257262   0.569961"
      ]
     },
     "execution_count": 33,
     "metadata": {},
     "output_type": "execute_result"
    }
   ],
   "source": [
    "control_store_df.head()"
   ]
  },
  {
   "cell_type": "code",
   "execution_count": 34,
   "id": "a28f06f6-97a6-45f5-8e91-086327d3174b",
   "metadata": {},
   "outputs": [
    {
     "data": {
      "text/plain": [
       "157.0"
      ]
     },
     "execution_count": 34,
     "metadata": {},
     "output_type": "execute_result"
    }
   ],
   "source": [
    "control_store_df.index[0][1]"
   ]
  },
  {
   "cell_type": "code",
   "execution_count": 35,
   "id": "de8ec053-2ddc-486e-a0df-40a6b3a077cc",
   "metadata": {},
   "outputs": [
    {
     "data": {
      "text/html": [
       "<div>\n",
       "<style scoped>\n",
       "    .dataframe tbody tr th:only-of-type {\n",
       "        vertical-align: middle;\n",
       "    }\n",
       "\n",
       "    .dataframe tbody tr th {\n",
       "        vertical-align: top;\n",
       "    }\n",
       "\n",
       "    .dataframe thead th {\n",
       "        text-align: right;\n",
       "    }\n",
       "</style>\n",
       "<table border=\"1\" class=\"dataframe\">\n",
       "  <thead>\n",
       "    <tr style=\"text-align: right;\">\n",
       "      <th></th>\n",
       "      <th>STORE_NBR</th>\n",
       "      <th>YEAR_MONTH</th>\n",
       "      <th>TOT_SALES</th>\n",
       "      <th>AVG_PRICE_PER_UNIT</th>\n",
       "      <th>N_CUSTOMERS</th>\n",
       "      <th>N_CHIPS_CUSTS</th>\n",
       "      <th>N_CHIPS_TXN</th>\n",
       "    </tr>\n",
       "  </thead>\n",
       "  <tbody>\n",
       "    <tr>\n",
       "      <th>0</th>\n",
       "      <td>1</td>\n",
       "      <td>201807</td>\n",
       "      <td>206.9</td>\n",
       "      <td>3.337097</td>\n",
       "      <td>49</td>\n",
       "      <td>1.061224</td>\n",
       "      <td>1.192308</td>\n",
       "    </tr>\n",
       "    <tr>\n",
       "      <th>1</th>\n",
       "      <td>1</td>\n",
       "      <td>201808</td>\n",
       "      <td>176.1</td>\n",
       "      <td>3.261111</td>\n",
       "      <td>42</td>\n",
       "      <td>1.023810</td>\n",
       "      <td>1.255814</td>\n",
       "    </tr>\n",
       "  </tbody>\n",
       "</table>\n",
       "</div>"
      ],
      "text/plain": [
       "   STORE_NBR  YEAR_MONTH  TOT_SALES  AVG_PRICE_PER_UNIT  N_CUSTOMERS  \\\n",
       "0          1      201807      206.9            3.337097           49   \n",
       "1          1      201808      176.1            3.261111           42   \n",
       "\n",
       "   N_CHIPS_CUSTS  N_CHIPS_TXN  \n",
       "0       1.061224     1.192308  \n",
       "1       1.023810     1.255814  "
      ]
     },
     "execution_count": 35,
     "metadata": {},
     "output_type": "execute_result"
    }
   ],
   "source": [
    "pre_trial_df.head(2)"
   ]
  },
  {
   "cell_type": "code",
   "execution_count": 37,
   "id": "54e387d4-859f-4232-be60-5c6be4cdb78c",
   "metadata": {},
   "outputs": [],
   "source": [
    "viz_df = pre_trial_df.loc[pre_trial_df[(pre_trial_df['STORE_NBR'] == t_store) | (pre_trial_df['STORE_NBR'] == control_store_df.index[0][1])].index]"
   ]
  },
  {
   "cell_type": "code",
   "execution_count": 38,
   "id": "d28e255b-7bdb-41a4-b222-2580684508fd",
   "metadata": {},
   "outputs": [],
   "source": [
    "viz_df['YEAR_MONTH'] = pd.to_datetime(viz_df['YEAR_MONTH'].astype(str),format='%Y%m')"
   ]
  },
  {
   "cell_type": "code",
   "execution_count": 39,
   "id": "28be8793-fe8d-405b-93ca-aead0b98d83e",
   "metadata": {},
   "outputs": [],
   "source": [
    "viz_df['store_type'] = np.where(viz_df['STORE_NBR'] == t_store,'Trial Store','Control Store')"
   ]
  },
  {
   "cell_type": "code",
   "execution_count": 40,
   "id": "ef6052e5-1984-4f72-98aa-410b40c856cc",
   "metadata": {},
   "outputs": [
    {
     "data": {
      "text/html": [
       "<div>\n",
       "<style scoped>\n",
       "    .dataframe tbody tr th:only-of-type {\n",
       "        vertical-align: middle;\n",
       "    }\n",
       "\n",
       "    .dataframe tbody tr th {\n",
       "        vertical-align: top;\n",
       "    }\n",
       "\n",
       "    .dataframe thead th {\n",
       "        text-align: right;\n",
       "    }\n",
       "</style>\n",
       "<table border=\"1\" class=\"dataframe\">\n",
       "  <thead>\n",
       "    <tr style=\"text-align: right;\">\n",
       "      <th></th>\n",
       "      <th>STORE_NBR</th>\n",
       "      <th>YEAR_MONTH</th>\n",
       "      <th>TOT_SALES</th>\n",
       "      <th>AVG_PRICE_PER_UNIT</th>\n",
       "      <th>N_CUSTOMERS</th>\n",
       "      <th>N_CHIPS_CUSTS</th>\n",
       "      <th>N_CHIPS_TXN</th>\n",
       "      <th>store_type</th>\n",
       "    </tr>\n",
       "  </thead>\n",
       "  <tbody>\n",
       "    <tr>\n",
       "      <th>880</th>\n",
       "      <td>77</td>\n",
       "      <td>2018-07-01</td>\n",
       "      <td>296.8</td>\n",
       "      <td>3.533333</td>\n",
       "      <td>51</td>\n",
       "      <td>1.078431</td>\n",
       "      <td>1.527273</td>\n",
       "      <td>Trial Store</td>\n",
       "    </tr>\n",
       "    <tr>\n",
       "      <th>881</th>\n",
       "      <td>77</td>\n",
       "      <td>2018-08-01</td>\n",
       "      <td>255.5</td>\n",
       "      <td>3.452703</td>\n",
       "      <td>47</td>\n",
       "      <td>1.021277</td>\n",
       "      <td>1.541667</td>\n",
       "      <td>Trial Store</td>\n",
       "    </tr>\n",
       "    <tr>\n",
       "      <th>882</th>\n",
       "      <td>77</td>\n",
       "      <td>2018-09-01</td>\n",
       "      <td>225.2</td>\n",
       "      <td>3.217143</td>\n",
       "      <td>42</td>\n",
       "      <td>1.047619</td>\n",
       "      <td>1.590909</td>\n",
       "      <td>Trial Store</td>\n",
       "    </tr>\n",
       "    <tr>\n",
       "      <th>883</th>\n",
       "      <td>77</td>\n",
       "      <td>2018-10-01</td>\n",
       "      <td>204.5</td>\n",
       "      <td>3.932692</td>\n",
       "      <td>37</td>\n",
       "      <td>1.027027</td>\n",
       "      <td>1.368421</td>\n",
       "      <td>Trial Store</td>\n",
       "    </tr>\n",
       "    <tr>\n",
       "      <th>884</th>\n",
       "      <td>77</td>\n",
       "      <td>2018-11-01</td>\n",
       "      <td>245.3</td>\n",
       "      <td>3.661194</td>\n",
       "      <td>41</td>\n",
       "      <td>1.073171</td>\n",
       "      <td>1.522727</td>\n",
       "      <td>Trial Store</td>\n",
       "    </tr>\n",
       "    <tr>\n",
       "      <th>885</th>\n",
       "      <td>77</td>\n",
       "      <td>2018-12-01</td>\n",
       "      <td>267.3</td>\n",
       "      <td>3.712500</td>\n",
       "      <td>46</td>\n",
       "      <td>1.043478</td>\n",
       "      <td>1.500000</td>\n",
       "      <td>Trial Store</td>\n",
       "    </tr>\n",
       "    <tr>\n",
       "      <th>886</th>\n",
       "      <td>77</td>\n",
       "      <td>2019-01-01</td>\n",
       "      <td>204.4</td>\n",
       "      <td>3.144615</td>\n",
       "      <td>35</td>\n",
       "      <td>1.114286</td>\n",
       "      <td>1.666667</td>\n",
       "      <td>Trial Store</td>\n",
       "    </tr>\n",
       "    <tr>\n",
       "      <th>1817</th>\n",
       "      <td>157</td>\n",
       "      <td>2018-07-01</td>\n",
       "      <td>1045.4</td>\n",
       "      <td>3.416340</td>\n",
       "      <td>124</td>\n",
       "      <td>1.233871</td>\n",
       "      <td>2.000000</td>\n",
       "      <td>Control Store</td>\n",
       "    </tr>\n",
       "    <tr>\n",
       "      <th>1818</th>\n",
       "      <td>157</td>\n",
       "      <td>2018-08-01</td>\n",
       "      <td>904.1</td>\n",
       "      <td>3.504264</td>\n",
       "      <td>103</td>\n",
       "      <td>1.320388</td>\n",
       "      <td>1.897059</td>\n",
       "      <td>Control Store</td>\n",
       "    </tr>\n",
       "    <tr>\n",
       "      <th>1819</th>\n",
       "      <td>157</td>\n",
       "      <td>2018-09-01</td>\n",
       "      <td>887.6</td>\n",
       "      <td>3.387786</td>\n",
       "      <td>104</td>\n",
       "      <td>1.250000</td>\n",
       "      <td>2.015385</td>\n",
       "      <td>Control Store</td>\n",
       "    </tr>\n",
       "    <tr>\n",
       "      <th>1820</th>\n",
       "      <td>157</td>\n",
       "      <td>2018-10-01</td>\n",
       "      <td>961.4</td>\n",
       "      <td>3.587313</td>\n",
       "      <td>102</td>\n",
       "      <td>1.294118</td>\n",
       "      <td>2.030303</td>\n",
       "      <td>Control Store</td>\n",
       "    </tr>\n",
       "    <tr>\n",
       "      <th>1821</th>\n",
       "      <td>157</td>\n",
       "      <td>2018-11-01</td>\n",
       "      <td>954.0</td>\n",
       "      <td>3.559701</td>\n",
       "      <td>105</td>\n",
       "      <td>1.266667</td>\n",
       "      <td>2.015038</td>\n",
       "      <td>Control Store</td>\n",
       "    </tr>\n",
       "    <tr>\n",
       "      <th>1822</th>\n",
       "      <td>157</td>\n",
       "      <td>2018-12-01</td>\n",
       "      <td>978.4</td>\n",
       "      <td>3.494286</td>\n",
       "      <td>104</td>\n",
       "      <td>1.326923</td>\n",
       "      <td>2.028986</td>\n",
       "      <td>Control Store</td>\n",
       "    </tr>\n",
       "    <tr>\n",
       "      <th>1823</th>\n",
       "      <td>157</td>\n",
       "      <td>2019-01-01</td>\n",
       "      <td>806.8</td>\n",
       "      <td>3.306557</td>\n",
       "      <td>100</td>\n",
       "      <td>1.220000</td>\n",
       "      <td>2.000000</td>\n",
       "      <td>Control Store</td>\n",
       "    </tr>\n",
       "  </tbody>\n",
       "</table>\n",
       "</div>"
      ],
      "text/plain": [
       "      STORE_NBR YEAR_MONTH  TOT_SALES  AVG_PRICE_PER_UNIT  N_CUSTOMERS  \\\n",
       "880          77 2018-07-01      296.8            3.533333           51   \n",
       "881          77 2018-08-01      255.5            3.452703           47   \n",
       "882          77 2018-09-01      225.2            3.217143           42   \n",
       "883          77 2018-10-01      204.5            3.932692           37   \n",
       "884          77 2018-11-01      245.3            3.661194           41   \n",
       "885          77 2018-12-01      267.3            3.712500           46   \n",
       "886          77 2019-01-01      204.4            3.144615           35   \n",
       "1817        157 2018-07-01     1045.4            3.416340          124   \n",
       "1818        157 2018-08-01      904.1            3.504264          103   \n",
       "1819        157 2018-09-01      887.6            3.387786          104   \n",
       "1820        157 2018-10-01      961.4            3.587313          102   \n",
       "1821        157 2018-11-01      954.0            3.559701          105   \n",
       "1822        157 2018-12-01      978.4            3.494286          104   \n",
       "1823        157 2019-01-01      806.8            3.306557          100   \n",
       "\n",
       "      N_CHIPS_CUSTS  N_CHIPS_TXN     store_type  \n",
       "880        1.078431     1.527273    Trial Store  \n",
       "881        1.021277     1.541667    Trial Store  \n",
       "882        1.047619     1.590909    Trial Store  \n",
       "883        1.027027     1.368421    Trial Store  \n",
       "884        1.073171     1.522727    Trial Store  \n",
       "885        1.043478     1.500000    Trial Store  \n",
       "886        1.114286     1.666667    Trial Store  \n",
       "1817       1.233871     2.000000  Control Store  \n",
       "1818       1.320388     1.897059  Control Store  \n",
       "1819       1.250000     2.015385  Control Store  \n",
       "1820       1.294118     2.030303  Control Store  \n",
       "1821       1.266667     2.015038  Control Store  \n",
       "1822       1.326923     2.028986  Control Store  \n",
       "1823       1.220000     2.000000  Control Store  "
      ]
     },
     "execution_count": 40,
     "metadata": {},
     "output_type": "execute_result"
    }
   ],
   "source": [
    "viz_df"
   ]
  },
  {
   "cell_type": "code",
   "execution_count": 41,
   "id": "486cada0-18a8-4c74-b803-3c1f5c68e1d9",
   "metadata": {},
   "outputs": [],
   "source": [
    "def trial_control_plot(data,metric):\n",
    "    control = data.loc[data['store_type'] == 'Control Store',['YEAR_MONTH',metric]]\n",
    "    control.set_index('YEAR_MONTH',inplace=True)\n",
    "    control.rename(columns={metric:'Control'},inplace=True)\n",
    "    trial = data.loc[data['store_type'] == 'Trial Store',['YEAR_MONTH',metric]]\n",
    "    trial.set_index('YEAR_MONTH',inplace=True)\n",
    "    trial.rename(columns={metric:'Trial'},inplace=True)\n",
    "    df_fin = pd.concat([control,trial],axis=1)\n",
    "    return df_fin"
   ]
  },
  {
   "cell_type": "code",
   "execution_count": 42,
   "id": "964e6cd1-1afc-4447-a683-6ef034fa0b6d",
   "metadata": {},
   "outputs": [],
   "source": [
    "df_viz = trial_control_plot(viz_df,'TOT_SALES')"
   ]
  },
  {
   "cell_type": "code",
   "execution_count": 43,
   "id": "fb417a56-243f-4f95-b9a6-ac986a2af7e2",
   "metadata": {},
   "outputs": [
    {
     "data": {
      "text/html": [
       "<div>\n",
       "<style scoped>\n",
       "    .dataframe tbody tr th:only-of-type {\n",
       "        vertical-align: middle;\n",
       "    }\n",
       "\n",
       "    .dataframe tbody tr th {\n",
       "        vertical-align: top;\n",
       "    }\n",
       "\n",
       "    .dataframe thead th {\n",
       "        text-align: right;\n",
       "    }\n",
       "</style>\n",
       "<table border=\"1\" class=\"dataframe\">\n",
       "  <thead>\n",
       "    <tr style=\"text-align: right;\">\n",
       "      <th></th>\n",
       "      <th>Control</th>\n",
       "      <th>Trial</th>\n",
       "    </tr>\n",
       "    <tr>\n",
       "      <th>YEAR_MONTH</th>\n",
       "      <th></th>\n",
       "      <th></th>\n",
       "    </tr>\n",
       "  </thead>\n",
       "  <tbody>\n",
       "    <tr>\n",
       "      <th>2018-07-01</th>\n",
       "      <td>1045.4</td>\n",
       "      <td>296.8</td>\n",
       "    </tr>\n",
       "    <tr>\n",
       "      <th>2018-08-01</th>\n",
       "      <td>904.1</td>\n",
       "      <td>255.5</td>\n",
       "    </tr>\n",
       "  </tbody>\n",
       "</table>\n",
       "</div>"
      ],
      "text/plain": [
       "            Control  Trial\n",
       "YEAR_MONTH                \n",
       "2018-07-01   1045.4  296.8\n",
       "2018-08-01    904.1  255.5"
      ]
     },
     "execution_count": 43,
     "metadata": {},
     "output_type": "execute_result"
    }
   ],
   "source": [
    "df_viz.head(2)"
   ]
  },
  {
   "cell_type": "code",
   "execution_count": 44,
   "id": "56cbedd7-8fad-499e-8eeb-77e0241b13a2",
   "metadata": {},
   "outputs": [
    {
     "data": {
      "text/plain": [
       "<AxesSubplot: xlabel='YEAR_MONTH'>"
      ]
     },
     "execution_count": 44,
     "metadata": {},
     "output_type": "execute_result"
    },
    {
     "data": {
      "image/png": "[encoded data removed]",
      "text/plain": [
       "<Figure size 640x480 with 1 Axes>"
      ]
     },
     "metadata": {},
     "output_type": "display_data"
    }
   ],
   "source": [
    "sns.lineplot(data=df_viz)"
   ]
  },
  {
   "cell_type": "markdown",
   "id": "e4416964-44d9-4ca0-844b-2af5792ab191",
   "metadata": {},
   "source": [
    "<strong>Not using avg price</strong>"
   ]
  },
  {
   "cell_type": "code",
   "execution_count": 66,
   "id": "c0d0d098-5944-4552-8a69-98c3a750ef6f",
   "metadata": {},
   "outputs": [],
   "source": [
    "control_store_df = pd.concat([tc_sales['fin_score'],tc_custs['fin_score']],axis=1)\n",
    "control_store_df.columns = ['sales_score','custs_score']"
   ]
  },
  {
   "cell_type": "code",
   "execution_count": 67,
   "id": "a9e2b50e-e1e5-4b07-933f-0f5663cdca98",
   "metadata": {},
   "outputs": [],
   "source": [
    "control_store_df['fin_score'] = (control_store_df['sales_score']+control_store_df['custs_score'])/2\n",
    "control_store_df.sort_values(by='fin_score',ascending=False,inplace=True)"
   ]
  },
  {
   "cell_type": "code",
   "execution_count": 68,
   "id": "c25eb936-e236-4444-ad22-10dbd8dcfbbd",
   "metadata": {},
   "outputs": [
    {
     "data": {
      "text/html": [
       "<div>\n",
       "<style scoped>\n",
       "    .dataframe tbody tr th:only-of-type {\n",
       "        vertical-align: middle;\n",
       "    }\n",
       "\n",
       "    .dataframe tbody tr th {\n",
       "        vertical-align: top;\n",
       "    }\n",
       "\n",
       "    .dataframe thead th {\n",
       "        text-align: right;\n",
       "    }\n",
       "</style>\n",
       "<table border=\"1\" class=\"dataframe\">\n",
       "  <thead>\n",
       "    <tr style=\"text-align: right;\">\n",
       "      <th></th>\n",
       "      <th></th>\n",
       "      <th>sales_score</th>\n",
       "      <th>custs_score</th>\n",
       "      <th>fin_score</th>\n",
       "    </tr>\n",
       "    <tr>\n",
       "      <th>TrialStore</th>\n",
       "      <th>ControlStore</th>\n",
       "      <th></th>\n",
       "      <th></th>\n",
       "      <th></th>\n",
       "    </tr>\n",
       "  </thead>\n",
       "  <tbody>\n",
       "    <tr>\n",
       "      <th rowspan=\"5\" valign=\"top\">77.0</th>\n",
       "      <th>233.0</th>\n",
       "      <td>0.697290</td>\n",
       "      <td>0.816607</td>\n",
       "      <td>0.756949</td>\n",
       "    </tr>\n",
       "    <tr>\n",
       "      <th>71.0</th>\n",
       "      <td>0.789497</td>\n",
       "      <td>0.663123</td>\n",
       "      <td>0.726310</td>\n",
       "    </tr>\n",
       "    <tr>\n",
       "      <th>84.0</th>\n",
       "      <td>0.656972</td>\n",
       "      <td>0.715000</td>\n",
       "      <td>0.685986</td>\n",
       "    </tr>\n",
       "    <tr>\n",
       "      <th>119.0</th>\n",
       "      <td>0.636046</td>\n",
       "      <td>0.729729</td>\n",
       "      <td>0.682887</td>\n",
       "    </tr>\n",
       "    <tr>\n",
       "      <th>115.0</th>\n",
       "      <td>0.708347</td>\n",
       "      <td>0.645155</td>\n",
       "      <td>0.676751</td>\n",
       "    </tr>\n",
       "  </tbody>\n",
       "</table>\n",
       "</div>"
      ],
      "text/plain": [
       "                         sales_score  custs_score  fin_score\n",
       "TrialStore ControlStore                                     \n",
       "77.0       233.0            0.697290     0.816607   0.756949\n",
       "           71.0             0.789497     0.663123   0.726310\n",
       "           84.0             0.656972     0.715000   0.685986\n",
       "           119.0            0.636046     0.729729   0.682887\n",
       "           115.0            0.708347     0.645155   0.676751"
      ]
     },
     "execution_count": 68,
     "metadata": {},
     "output_type": "execute_result"
    }
   ],
   "source": [
    "control_store_df.head()"
   ]
  },
  {
   "cell_type": "code",
   "execution_count": 73,
   "id": "ce905e03-e761-4f11-b3e3-e71505b5953a",
   "metadata": {},
   "outputs": [],
   "source": [
    "viz_df = pre_trial_df.loc[pre_trial_df[(pre_trial_df['STORE_NBR'] == t_store) | (pre_trial_df['STORE_NBR'] == control_store_df.index[0][1])].index]"
   ]
  },
  {
   "cell_type": "code",
   "execution_count": 74,
   "id": "01338fcf-5e7e-4b92-9e65-20f557f9addf",
   "metadata": {},
   "outputs": [],
   "source": [
    "viz_df['YEAR_MONTH'] = pd.to_datetime(viz_df['YEAR_MONTH'].astype(str),format='%Y%m')"
   ]
  },
  {
   "cell_type": "code",
   "execution_count": 75,
   "id": "27f7d342-0cfb-4ffc-a299-a98c75d99851",
   "metadata": {},
   "outputs": [],
   "source": [
    "viz_df['store_type'] = np.where(viz_df['STORE_NBR'] == t_store,'Trial Store','Control Store')"
   ]
  },
  {
   "cell_type": "code",
   "execution_count": 76,
   "id": "84dd7f89-c99b-4d86-b4f7-4efa3c988503",
   "metadata": {},
   "outputs": [],
   "source": [
    "df_viz = trial_control_plot(viz_df,'TOT_SALES')"
   ]
  },
  {
   "cell_type": "code",
   "execution_count": 77,
   "id": "7978a184-77f5-4b9c-8745-393fbe67503e",
   "metadata": {},
   "outputs": [
    {
     "data": {
      "text/plain": [
       "<AxesSubplot: xlabel='YEAR_MONTH'>"
      ]
     },
     "execution_count": 77,
     "metadata": {},
     "output_type": "execute_result"
    },
    {
     "data": {
      "image/png": "[encoded data removed]",
      "text/plain": [
       "<Figure size 640x480 with 1 Axes>"
      ]
     },
     "metadata": {},
     "output_type": "display_data"
    }
   ],
   "source": [
    "sns.lineplot(data=df_viz)"
   ]
  },
  {
   "cell_type": "markdown",
   "id": "45b701da-19f8-4277-8f06-0dbacf0ac1fd",
   "metadata": {},
   "source": [
    "## Assessing the trials for Store 77"
   ]
  },
  {
   "cell_type": "code",
   "execution_count": 78,
   "id": "0794bc3b-16e4-4d3c-b811-8e4a9d3ca27a",
   "metadata": {},
   "outputs": [
    {
     "data": {
      "text/html": [
       "<div>\n",
       "<style scoped>\n",
       "    .dataframe tbody tr th:only-of-type {\n",
       "        vertical-align: middle;\n",
       "    }\n",
       "\n",
       "    .dataframe tbody tr th {\n",
       "        vertical-align: top;\n",
       "    }\n",
       "\n",
       "    .dataframe thead th {\n",
       "        text-align: right;\n",
       "    }\n",
       "</style>\n",
       "<table border=\"1\" class=\"dataframe\">\n",
       "  <thead>\n",
       "    <tr style=\"text-align: right;\">\n",
       "      <th></th>\n",
       "      <th>STORE_NBR</th>\n",
       "      <th>YEAR_MONTH</th>\n",
       "      <th>TOT_SALES</th>\n",
       "      <th>AVG_PRICE_PER_UNIT</th>\n",
       "      <th>N_CUSTOMERS</th>\n",
       "      <th>N_CHIPS_CUSTS</th>\n",
       "      <th>N_CHIPS_TXN</th>\n",
       "      <th>store_type</th>\n",
       "    </tr>\n",
       "  </thead>\n",
       "  <tbody>\n",
       "    <tr>\n",
       "      <th>880</th>\n",
       "      <td>77</td>\n",
       "      <td>2018-07-01</td>\n",
       "      <td>296.8</td>\n",
       "      <td>3.533333</td>\n",
       "      <td>51</td>\n",
       "      <td>1.078431</td>\n",
       "      <td>1.527273</td>\n",
       "      <td>Trial Store</td>\n",
       "    </tr>\n",
       "  </tbody>\n",
       "</table>\n",
       "</div>"
      ],
      "text/plain": [
       "     STORE_NBR YEAR_MONTH  TOT_SALES  AVG_PRICE_PER_UNIT  N_CUSTOMERS  \\\n",
       "880         77 2018-07-01      296.8            3.533333           51   \n",
       "\n",
       "     N_CHIPS_CUSTS  N_CHIPS_TXN   store_type  \n",
       "880       1.078431     1.527273  Trial Store  "
      ]
     },
     "execution_count": 78,
     "metadata": {},
     "output_type": "execute_result"
    }
   ],
   "source": [
    "viz_df.head(1)"
   ]
  },
  {
   "cell_type": "code",
   "execution_count": 58,
   "id": "f55bf11c-ab37-46f5-9439-ad21b6e9cecc",
   "metadata": {},
   "outputs": [],
   "source": [
    "trial_data  = viz_df.loc[viz_df['store_type'] == 'Trial Store','TOT_SALES'].sum()\n",
    "control_data  = viz_df.loc[viz_df['store_type'] == 'Control Store','TOT_SALES'].sum()\n",
    "assess_factor = trial_data / control_data"
   ]
  },
  {
   "cell_type": "code",
   "execution_count": 60,
   "id": "7b6a9cd9-06ea-48b2-90db-f4e532bf6e2f",
   "metadata": {},
   "outputs": [
    {
     "data": {
      "text/plain": [
       "1.023617303289553"
      ]
     },
     "execution_count": 60,
     "metadata": {},
     "output_type": "execute_result"
    }
   ],
   "source": [
    "assess_factor"
   ]
  },
  {
   "cell_type": "code",
   "execution_count": 107,
   "id": "0ecfda94-3311-4d5f-be4e-30a9ba0cdf3c",
   "metadata": {},
   "outputs": [],
   "source": [
    "control_sales = pd.concat(df_rollup,join='outer',axis=1)\n",
    "control_sales.reset_index(inplace=True)\n",
    "control_sales['YEAR_MONTH'] = pd.to_datetime(control_sales['YEAR_MONTH'].astype(str),format='%Y%m')\n",
    "control_sales = control_sales.loc[control_sales['STORE_NBR'] == 233]"
   ]
  },
  {
   "cell_type": "code",
   "execution_count": 108,
   "id": "a09b53d1-1bdf-4952-9bec-524f7b894548",
   "metadata": {},
   "outputs": [
    {
     "data": {
      "text/html": [
       "<div>\n",
       "<style scoped>\n",
       "    .dataframe tbody tr th:only-of-type {\n",
       "        vertical-align: middle;\n",
       "    }\n",
       "\n",
       "    .dataframe tbody tr th {\n",
       "        vertical-align: top;\n",
       "    }\n",
       "\n",
       "    .dataframe thead th {\n",
       "        text-align: right;\n",
       "    }\n",
       "</style>\n",
       "<table border=\"1\" class=\"dataframe\">\n",
       "  <thead>\n",
       "    <tr style=\"text-align: right;\">\n",
       "      <th></th>\n",
       "      <th>STORE_NBR</th>\n",
       "      <th>YEAR_MONTH</th>\n",
       "      <th>TOT_SALES</th>\n",
       "      <th>0</th>\n",
       "      <th>LYLTY_CARD_NBR</th>\n",
       "      <th>0</th>\n",
       "      <th>1</th>\n",
       "    </tr>\n",
       "  </thead>\n",
       "  <tbody>\n",
       "    <tr>\n",
       "      <th>2699</th>\n",
       "      <td>233</td>\n",
       "      <td>2018-07-01</td>\n",
       "      <td>290.7</td>\n",
       "      <td>3.303409</td>\n",
       "      <td>51</td>\n",
       "      <td>1.058824</td>\n",
       "      <td>1.629630</td>\n",
       "    </tr>\n",
       "    <tr>\n",
       "      <th>2700</th>\n",
       "      <td>233</td>\n",
       "      <td>2018-08-01</td>\n",
       "      <td>285.9</td>\n",
       "      <td>3.573750</td>\n",
       "      <td>48</td>\n",
       "      <td>1.041667</td>\n",
       "      <td>1.600000</td>\n",
       "    </tr>\n",
       "    <tr>\n",
       "      <th>2701</th>\n",
       "      <td>233</td>\n",
       "      <td>2018-09-01</td>\n",
       "      <td>228.6</td>\n",
       "      <td>3.265714</td>\n",
       "      <td>42</td>\n",
       "      <td>1.071429</td>\n",
       "      <td>1.555556</td>\n",
       "    </tr>\n",
       "    <tr>\n",
       "      <th>2702</th>\n",
       "      <td>233</td>\n",
       "      <td>2018-10-01</td>\n",
       "      <td>185.7</td>\n",
       "      <td>3.316071</td>\n",
       "      <td>35</td>\n",
       "      <td>1.028571</td>\n",
       "      <td>1.555556</td>\n",
       "    </tr>\n",
       "    <tr>\n",
       "      <th>2703</th>\n",
       "      <td>233</td>\n",
       "      <td>2018-11-01</td>\n",
       "      <td>211.6</td>\n",
       "      <td>3.412903</td>\n",
       "      <td>40</td>\n",
       "      <td>1.025000</td>\n",
       "      <td>1.512195</td>\n",
       "    </tr>\n",
       "  </tbody>\n",
       "</table>\n",
       "</div>"
      ],
      "text/plain": [
       "      STORE_NBR YEAR_MONTH  TOT_SALES         0  LYLTY_CARD_NBR         0  \\\n",
       "2699        233 2018-07-01      290.7  3.303409              51  1.058824   \n",
       "2700        233 2018-08-01      285.9  3.573750              48  1.041667   \n",
       "2701        233 2018-09-01      228.6  3.265714              42  1.071429   \n",
       "2702        233 2018-10-01      185.7  3.316071              35  1.028571   \n",
       "2703        233 2018-11-01      211.6  3.412903              40  1.025000   \n",
       "\n",
       "             1  \n",
       "2699  1.629630  \n",
       "2700  1.600000  \n",
       "2701  1.555556  \n",
       "2702  1.555556  \n",
       "2703  1.512195  "
      ]
     },
     "execution_count": 108,
     "metadata": {},
     "output_type": "execute_result"
    }
   ],
   "source": [
    "control_sales.head()"
   ]
  },
  {
   "cell_type": "code",
   "execution_count": 109,
   "id": "3f46b16a-d2d5-4df4-8513-38cea32fe30e",
   "metadata": {},
   "outputs": [],
   "source": [
    "control_sales['factored_sales'] = control_sales['TOT_SALES'] * assess_factor"
   ]
  },
  {
   "cell_type": "code",
   "execution_count": 173,
   "id": "b3576c94-081f-4d7f-b159-948351926d80",
   "metadata": {},
   "outputs": [],
   "source": [
    "diff_df = control_sales[['YEAR_MONTH','factored_sales']]\n",
    "diff_df.reset_index(drop=True,inplace=True)"
   ]
  },
  {
   "cell_type": "code",
   "execution_count": 174,
   "id": "e6692c1a-b865-4e6a-b91b-67bea6507177",
   "metadata": {},
   "outputs": [
    {
     "data": {
      "text/html": [
       "<div>\n",
       "<style scoped>\n",
       "    .dataframe tbody tr th:only-of-type {\n",
       "        vertical-align: middle;\n",
       "    }\n",
       "\n",
       "    .dataframe tbody tr th {\n",
       "        vertical-align: top;\n",
       "    }\n",
       "\n",
       "    .dataframe thead th {\n",
       "        text-align: right;\n",
       "    }\n",
       "</style>\n",
       "<table border=\"1\" class=\"dataframe\">\n",
       "  <thead>\n",
       "    <tr style=\"text-align: right;\">\n",
       "      <th></th>\n",
       "      <th>YEAR_MONTH</th>\n",
       "      <th>factored_sales</th>\n",
       "    </tr>\n",
       "  </thead>\n",
       "  <tbody>\n",
       "    <tr>\n",
       "      <th>0</th>\n",
       "      <td>2018-07-01</td>\n",
       "      <td>297.565550</td>\n",
       "    </tr>\n",
       "    <tr>\n",
       "      <th>1</th>\n",
       "      <td>2018-08-01</td>\n",
       "      <td>292.652187</td>\n",
       "    </tr>\n",
       "    <tr>\n",
       "      <th>2</th>\n",
       "      <td>2018-09-01</td>\n",
       "      <td>233.998916</td>\n",
       "    </tr>\n",
       "    <tr>\n",
       "      <th>3</th>\n",
       "      <td>2018-10-01</td>\n",
       "      <td>190.085733</td>\n",
       "    </tr>\n",
       "    <tr>\n",
       "      <th>4</th>\n",
       "      <td>2018-11-01</td>\n",
       "      <td>216.597421</td>\n",
       "    </tr>\n",
       "  </tbody>\n",
       "</table>\n",
       "</div>"
      ],
      "text/plain": [
       "  YEAR_MONTH  factored_sales\n",
       "0 2018-07-01      297.565550\n",
       "1 2018-08-01      292.652187\n",
       "2 2018-09-01      233.998916\n",
       "3 2018-10-01      190.085733\n",
       "4 2018-11-01      216.597421"
      ]
     },
     "execution_count": 174,
     "metadata": {},
     "output_type": "execute_result"
    }
   ],
   "source": [
    "diff_df.head()"
   ]
  },
  {
   "cell_type": "code",
   "execution_count": 175,
   "id": "63c1624e-d99e-412f-adfc-356088469562",
   "metadata": {},
   "outputs": [
    {
     "data": {
      "text/html": [
       "<div>\n",
       "<style scoped>\n",
       "    .dataframe tbody tr th:only-of-type {\n",
       "        vertical-align: middle;\n",
       "    }\n",
       "\n",
       "    .dataframe tbody tr th {\n",
       "        vertical-align: top;\n",
       "    }\n",
       "\n",
       "    .dataframe thead th {\n",
       "        text-align: right;\n",
       "    }\n",
       "</style>\n",
       "<table border=\"1\" class=\"dataframe\">\n",
       "  <thead>\n",
       "    <tr style=\"text-align: right;\">\n",
       "      <th></th>\n",
       "      <th>STORE_NBR</th>\n",
       "      <th>YEAR_MONTH</th>\n",
       "      <th>TOT_SALES</th>\n",
       "      <th>AVG_PRICE_PER_UNIT</th>\n",
       "      <th>N_CUSTOMERS</th>\n",
       "      <th>N_CHIPS_CUSTS</th>\n",
       "      <th>N_CHIPS_TXN</th>\n",
       "    </tr>\n",
       "  </thead>\n",
       "  <tbody>\n",
       "    <tr>\n",
       "      <th>0</th>\n",
       "      <td>1</td>\n",
       "      <td>201807</td>\n",
       "      <td>206.9</td>\n",
       "      <td>3.337097</td>\n",
       "      <td>49</td>\n",
       "      <td>1.061224</td>\n",
       "      <td>1.192308</td>\n",
       "    </tr>\n",
       "    <tr>\n",
       "      <th>1</th>\n",
       "      <td>1</td>\n",
       "      <td>201808</td>\n",
       "      <td>176.1</td>\n",
       "      <td>3.261111</td>\n",
       "      <td>42</td>\n",
       "      <td>1.023810</td>\n",
       "      <td>1.255814</td>\n",
       "    </tr>\n",
       "  </tbody>\n",
       "</table>\n",
       "</div>"
      ],
      "text/plain": [
       "   STORE_NBR  YEAR_MONTH  TOT_SALES  AVG_PRICE_PER_UNIT  N_CUSTOMERS  \\\n",
       "0          1      201807      206.9            3.337097           49   \n",
       "1          1      201808      176.1            3.261111           42   \n",
       "\n",
       "   N_CHIPS_CUSTS  N_CHIPS_TXN  \n",
       "0       1.061224     1.192308  \n",
       "1       1.023810     1.255814  "
      ]
     },
     "execution_count": 175,
     "metadata": {},
     "output_type": "execute_result"
    }
   ],
   "source": [
    "fin_df.head(2)"
   ]
  },
  {
   "cell_type": "code",
   "execution_count": 151,
   "id": "8fba1918-1206-4721-b24f-3f5d7495bb24",
   "metadata": {},
   "outputs": [],
   "source": [
    "trial_sales = fin_df.loc[fin_df['STORE_NBR'] == t_store,['YEAR_MONTH','TOT_SALES']]"
   ]
  },
  {
   "cell_type": "code",
   "execution_count": 152,
   "id": "90c8b3fb-3767-4e71-837f-09b26419af46",
   "metadata": {},
   "outputs": [],
   "source": [
    "trial_sales = pd.DataFrame(trial_sales)\n",
    "trial_sales.reset_index(drop=True,inplace=True)\n",
    "trial_sales['YEAR_MONTH'] = pd.to_datetime(trial_sales['YEAR_MONTH'].astype(str),format='%Y%m')"
   ]
  },
  {
   "cell_type": "code",
   "execution_count": 176,
   "id": "d1c9ae87-744e-4f11-bcb4-a0970222aeba",
   "metadata": {},
   "outputs": [],
   "source": [
    "diff_df = pd.concat([diff_df,trial_sales],axis=1)"
   ]
  },
  {
   "cell_type": "code",
   "execution_count": 177,
   "id": "7b100881-d378-44bb-aca5-4c777a44e8cb",
   "metadata": {},
   "outputs": [
    {
     "data": {
      "text/html": [
       "<div>\n",
       "<style scoped>\n",
       "    .dataframe tbody tr th:only-of-type {\n",
       "        vertical-align: middle;\n",
       "    }\n",
       "\n",
       "    .dataframe tbody tr th {\n",
       "        vertical-align: top;\n",
       "    }\n",
       "\n",
       "    .dataframe thead th {\n",
       "        text-align: right;\n",
       "    }\n",
       "</style>\n",
       "<table border=\"1\" class=\"dataframe\">\n",
       "  <thead>\n",
       "    <tr style=\"text-align: right;\">\n",
       "      <th></th>\n",
       "      <th>YEAR_MONTH</th>\n",
       "      <th>factored_sales</th>\n",
       "      <th>YEAR_MONTH</th>\n",
       "      <th>TOT_SALES</th>\n",
       "    </tr>\n",
       "  </thead>\n",
       "  <tbody>\n",
       "    <tr>\n",
       "      <th>0</th>\n",
       "      <td>2018-07-01</td>\n",
       "      <td>297.565550</td>\n",
       "      <td>2018-07-01</td>\n",
       "      <td>296.8</td>\n",
       "    </tr>\n",
       "    <tr>\n",
       "      <th>1</th>\n",
       "      <td>2018-08-01</td>\n",
       "      <td>292.652187</td>\n",
       "      <td>2018-08-01</td>\n",
       "      <td>255.5</td>\n",
       "    </tr>\n",
       "    <tr>\n",
       "      <th>2</th>\n",
       "      <td>2018-09-01</td>\n",
       "      <td>233.998916</td>\n",
       "      <td>2018-09-01</td>\n",
       "      <td>225.2</td>\n",
       "    </tr>\n",
       "    <tr>\n",
       "      <th>3</th>\n",
       "      <td>2018-10-01</td>\n",
       "      <td>190.085733</td>\n",
       "      <td>2018-10-01</td>\n",
       "      <td>204.5</td>\n",
       "    </tr>\n",
       "    <tr>\n",
       "      <th>4</th>\n",
       "      <td>2018-11-01</td>\n",
       "      <td>216.597421</td>\n",
       "      <td>2018-11-01</td>\n",
       "      <td>245.3</td>\n",
       "    </tr>\n",
       "    <tr>\n",
       "      <th>5</th>\n",
       "      <td>2018-12-01</td>\n",
       "      <td>286.408121</td>\n",
       "      <td>2018-12-01</td>\n",
       "      <td>267.3</td>\n",
       "    </tr>\n",
       "    <tr>\n",
       "      <th>6</th>\n",
       "      <td>2019-01-01</td>\n",
       "      <td>181.692071</td>\n",
       "      <td>2019-01-01</td>\n",
       "      <td>204.4</td>\n",
       "    </tr>\n",
       "    <tr>\n",
       "      <th>7</th>\n",
       "      <td>2019-02-01</td>\n",
       "      <td>249.762622</td>\n",
       "      <td>2019-02-01</td>\n",
       "      <td>235.0</td>\n",
       "    </tr>\n",
       "    <tr>\n",
       "      <th>8</th>\n",
       "      <td>2019-03-01</td>\n",
       "      <td>203.802205</td>\n",
       "      <td>2019-03-01</td>\n",
       "      <td>278.5</td>\n",
       "    </tr>\n",
       "    <tr>\n",
       "      <th>9</th>\n",
       "      <td>2019-04-01</td>\n",
       "      <td>162.345704</td>\n",
       "      <td>2019-04-01</td>\n",
       "      <td>263.5</td>\n",
       "    </tr>\n",
       "    <tr>\n",
       "      <th>10</th>\n",
       "      <td>2019-05-01</td>\n",
       "      <td>352.533799</td>\n",
       "      <td>2019-05-01</td>\n",
       "      <td>299.3</td>\n",
       "    </tr>\n",
       "    <tr>\n",
       "      <th>11</th>\n",
       "      <td>2019-06-01</td>\n",
       "      <td>226.219424</td>\n",
       "      <td>2019-06-01</td>\n",
       "      <td>264.7</td>\n",
       "    </tr>\n",
       "  </tbody>\n",
       "</table>\n",
       "</div>"
      ],
      "text/plain": [
       "   YEAR_MONTH  factored_sales YEAR_MONTH  TOT_SALES\n",
       "0  2018-07-01      297.565550 2018-07-01      296.8\n",
       "1  2018-08-01      292.652187 2018-08-01      255.5\n",
       "2  2018-09-01      233.998916 2018-09-01      225.2\n",
       "3  2018-10-01      190.085733 2018-10-01      204.5\n",
       "4  2018-11-01      216.597421 2018-11-01      245.3\n",
       "5  2018-12-01      286.408121 2018-12-01      267.3\n",
       "6  2019-01-01      181.692071 2019-01-01      204.4\n",
       "7  2019-02-01      249.762622 2019-02-01      235.0\n",
       "8  2019-03-01      203.802205 2019-03-01      278.5\n",
       "9  2019-04-01      162.345704 2019-04-01      263.5\n",
       "10 2019-05-01      352.533799 2019-05-01      299.3\n",
       "11 2019-06-01      226.219424 2019-06-01      264.7"
      ]
     },
     "execution_count": 177,
     "metadata": {},
     "output_type": "execute_result"
    }
   ],
   "source": [
    "diff_df"
   ]
  },
  {
   "cell_type": "code",
   "execution_count": 178,
   "id": "e56813f8-50a1-4fd4-970a-90034e43acb1",
   "metadata": {},
   "outputs": [],
   "source": [
    "diff_df.columns = ['YEAR_MONTH','factored_sales','REM','TOT_SALES']\n",
    "diff_df.drop(columns='REM',inplace=True)\n",
    "diff_df.rename(columns={'TOT_SALES':'trial_sales'},inplace=True)"
   ]
  },
  {
   "cell_type": "code",
   "execution_count": 179,
   "id": "a8b1182e-dc0c-49d6-93ec-20ec2a2647eb",
   "metadata": {},
   "outputs": [
    {
     "data": {
      "text/html": [
       "<div>\n",
       "<style scoped>\n",
       "    .dataframe tbody tr th:only-of-type {\n",
       "        vertical-align: middle;\n",
       "    }\n",
       "\n",
       "    .dataframe tbody tr th {\n",
       "        vertical-align: top;\n",
       "    }\n",
       "\n",
       "    .dataframe thead th {\n",
       "        text-align: right;\n",
       "    }\n",
       "</style>\n",
       "<table border=\"1\" class=\"dataframe\">\n",
       "  <thead>\n",
       "    <tr style=\"text-align: right;\">\n",
       "      <th></th>\n",
       "      <th>YEAR_MONTH</th>\n",
       "      <th>factored_sales</th>\n",
       "      <th>trial_sales</th>\n",
       "    </tr>\n",
       "  </thead>\n",
       "  <tbody>\n",
       "    <tr>\n",
       "      <th>0</th>\n",
       "      <td>2018-07-01</td>\n",
       "      <td>297.565550</td>\n",
       "      <td>296.8</td>\n",
       "    </tr>\n",
       "    <tr>\n",
       "      <th>1</th>\n",
       "      <td>2018-08-01</td>\n",
       "      <td>292.652187</td>\n",
       "      <td>255.5</td>\n",
       "    </tr>\n",
       "    <tr>\n",
       "      <th>2</th>\n",
       "      <td>2018-09-01</td>\n",
       "      <td>233.998916</td>\n",
       "      <td>225.2</td>\n",
       "    </tr>\n",
       "    <tr>\n",
       "      <th>3</th>\n",
       "      <td>2018-10-01</td>\n",
       "      <td>190.085733</td>\n",
       "      <td>204.5</td>\n",
       "    </tr>\n",
       "    <tr>\n",
       "      <th>4</th>\n",
       "      <td>2018-11-01</td>\n",
       "      <td>216.597421</td>\n",
       "      <td>245.3</td>\n",
       "    </tr>\n",
       "  </tbody>\n",
       "</table>\n",
       "</div>"
      ],
      "text/plain": [
       "  YEAR_MONTH  factored_sales  trial_sales\n",
       "0 2018-07-01      297.565550        296.8\n",
       "1 2018-08-01      292.652187        255.5\n",
       "2 2018-09-01      233.998916        225.2\n",
       "3 2018-10-01      190.085733        204.5\n",
       "4 2018-11-01      216.597421        245.3"
      ]
     },
     "execution_count": 179,
     "metadata": {},
     "output_type": "execute_result"
    }
   ],
   "source": [
    "diff_df.head()"
   ]
  },
  {
   "cell_type": "code",
   "execution_count": 180,
   "id": "5c3735bc-a2f4-462c-9708-6cce0aa5e215",
   "metadata": {},
   "outputs": [],
   "source": [
    "diff_df['%diff'] = abs(diff_df.factored_sales - diff_df.trial_sales)/ diff_df.factored_sales"
   ]
  },
  {
   "cell_type": "code",
   "execution_count": 181,
   "id": "9e4a1af0-7d2c-446d-ad29-4e9bf0d99e69",
   "metadata": {},
   "outputs": [],
   "source": [
    "diff_df['YEAR_MONTH'] = diff_df['YEAR_MONTH'].dt.strftime('%Y%m')"
   ]
  },
  {
   "cell_type": "code",
   "execution_count": 182,
   "id": "0cfa01d6-e459-4ecf-9631-cd116e91806e",
   "metadata": {},
   "outputs": [],
   "source": [
    "diff_df['YEAR_MONTH'] = pd.to_numeric(diff_df['YEAR_MONTH'])"
   ]
  },
  {
   "cell_type": "code",
   "execution_count": 186,
   "id": "c72db88e-1b5c-4299-a4ed-df4729701593",
   "metadata": {},
   "outputs": [],
   "source": [
    "sd = stdev(diff_df.loc[diff_df['YEAR_MONTH'] < 201902,'%diff'])"
   ]
  },
  {
   "cell_type": "code",
   "execution_count": 187,
   "id": "b206c51e-9fb0-4861-b876-57050111fc32",
   "metadata": {},
   "outputs": [
    {
     "data": {
      "text/plain": [
       "0.049940762641425364"
      ]
     },
     "execution_count": 187,
     "metadata": {},
     "output_type": "execute_result"
    }
   ],
   "source": [
    "sd"
   ]
  },
  {
   "cell_type": "code",
   "execution_count": 188,
   "id": "d82f75f5-ab2d-404e-9655-6b8de14182b2",
   "metadata": {},
   "outputs": [],
   "source": [
    "diff_df['t_val'] = (diff_df['%diff']-0)/sd"
   ]
  },
  {
   "cell_type": "code",
   "execution_count": 190,
   "id": "c86f61da-5143-46d9-a0a4-08d2b73f082d",
   "metadata": {},
   "outputs": [
    {
     "data": {
      "text/html": [
       "<div>\n",
       "<style scoped>\n",
       "    .dataframe tbody tr th:only-of-type {\n",
       "        vertical-align: middle;\n",
       "    }\n",
       "\n",
       "    .dataframe tbody tr th {\n",
       "        vertical-align: top;\n",
       "    }\n",
       "\n",
       "    .dataframe thead th {\n",
       "        text-align: right;\n",
       "    }\n",
       "</style>\n",
       "<table border=\"1\" class=\"dataframe\">\n",
       "  <thead>\n",
       "    <tr style=\"text-align: right;\">\n",
       "      <th></th>\n",
       "      <th>YEAR_MONTH</th>\n",
       "      <th>factored_sales</th>\n",
       "      <th>trial_sales</th>\n",
       "      <th>%diff</th>\n",
       "      <th>t_val</th>\n",
       "    </tr>\n",
       "  </thead>\n",
       "  <tbody>\n",
       "    <tr>\n",
       "      <th>7</th>\n",
       "      <td>201902</td>\n",
       "      <td>249.762622</td>\n",
       "      <td>235.0</td>\n",
       "      <td>0.059107</td>\n",
       "      <td>1.183534</td>\n",
       "    </tr>\n",
       "    <tr>\n",
       "      <th>8</th>\n",
       "      <td>201903</td>\n",
       "      <td>203.802205</td>\n",
       "      <td>278.5</td>\n",
       "      <td>0.366521</td>\n",
       "      <td>7.339116</td>\n",
       "    </tr>\n",
       "    <tr>\n",
       "      <th>9</th>\n",
       "      <td>201904</td>\n",
       "      <td>162.345704</td>\n",
       "      <td>263.5</td>\n",
       "      <td>0.623080</td>\n",
       "      <td>12.476373</td>\n",
       "    </tr>\n",
       "  </tbody>\n",
       "</table>\n",
       "</div>"
      ],
      "text/plain": [
       "   YEAR_MONTH  factored_sales  trial_sales     %diff      t_val\n",
       "7      201902      249.762622        235.0  0.059107   1.183534\n",
       "8      201903      203.802205        278.5  0.366521   7.339116\n",
       "9      201904      162.345704        263.5  0.623080  12.476373"
      ]
     },
     "execution_count": 190,
     "metadata": {},
     "output_type": "execute_result"
    }
   ],
   "source": [
    "diff_df.loc[(diff_df['YEAR_MONTH'] > 201901) & (diff_df['YEAR_MONTH'] < 201905)]"
   ]
  },
  {
   "cell_type": "code",
   "execution_count": 189,
   "id": "76eb7062-cfe7-4100-ab1e-aa1958bcadd7",
   "metadata": {},
   "outputs": [
    {
     "data": {
      "text/plain": [
       "1.8945786050613054"
      ]
     },
     "execution_count": 189,
     "metadata": {},
     "output_type": "execute_result"
    }
   ],
   "source": [
    "sp.stats.t.isf(0.05,7)"
   ]
  },
  {
   "cell_type": "code",
   "execution_count": 192,
   "id": "5b151f06-53c6-423f-b658-f27b0b6e4c52",
   "metadata": {},
   "outputs": [],
   "source": [
    "control_sales.columns = ['STORE_NBR','YEAR_MONTH','TOT_SALES','AVG_PRICE_PER_UNIT','N_CUSTOMERS','N_CHIPS_CUSTS','N_CHIPS_TXN','factored_sales']"
   ]
  },
  {
   "cell_type": "code",
   "execution_count": 193,
   "id": "9c24037a-1a21-4b62-988c-9d3939adaf59",
   "metadata": {},
   "outputs": [
    {
     "data": {
      "text/html": [
       "<div>\n",
       "<style scoped>\n",
       "    .dataframe tbody tr th:only-of-type {\n",
       "        vertical-align: middle;\n",
       "    }\n",
       "\n",
       "    .dataframe tbody tr th {\n",
       "        vertical-align: top;\n",
       "    }\n",
       "\n",
       "    .dataframe thead th {\n",
       "        text-align: right;\n",
       "    }\n",
       "</style>\n",
       "<table border=\"1\" class=\"dataframe\">\n",
       "  <thead>\n",
       "    <tr style=\"text-align: right;\">\n",
       "      <th></th>\n",
       "      <th>STORE_NBR</th>\n",
       "      <th>YEAR_MONTH</th>\n",
       "      <th>TOT_SALES</th>\n",
       "      <th>AVG_PRICE_PER_UNIT</th>\n",
       "      <th>N_CUSTOMERS</th>\n",
       "      <th>N_CHIPS_CUSTS</th>\n",
       "      <th>N_CHIPS_TXN</th>\n",
       "      <th>factored_sales</th>\n",
       "    </tr>\n",
       "  </thead>\n",
       "  <tbody>\n",
       "    <tr>\n",
       "      <th>2699</th>\n",
       "      <td>233</td>\n",
       "      <td>2018-07-01</td>\n",
       "      <td>290.7</td>\n",
       "      <td>3.303409</td>\n",
       "      <td>51</td>\n",
       "      <td>1.058824</td>\n",
       "      <td>1.629630</td>\n",
       "      <td>297.565550</td>\n",
       "    </tr>\n",
       "    <tr>\n",
       "      <th>2700</th>\n",
       "      <td>233</td>\n",
       "      <td>2018-08-01</td>\n",
       "      <td>285.9</td>\n",
       "      <td>3.573750</td>\n",
       "      <td>48</td>\n",
       "      <td>1.041667</td>\n",
       "      <td>1.600000</td>\n",
       "      <td>292.652187</td>\n",
       "    </tr>\n",
       "    <tr>\n",
       "      <th>2701</th>\n",
       "      <td>233</td>\n",
       "      <td>2018-09-01</td>\n",
       "      <td>228.6</td>\n",
       "      <td>3.265714</td>\n",
       "      <td>42</td>\n",
       "      <td>1.071429</td>\n",
       "      <td>1.555556</td>\n",
       "      <td>233.998916</td>\n",
       "    </tr>\n",
       "    <tr>\n",
       "      <th>2702</th>\n",
       "      <td>233</td>\n",
       "      <td>2018-10-01</td>\n",
       "      <td>185.7</td>\n",
       "      <td>3.316071</td>\n",
       "      <td>35</td>\n",
       "      <td>1.028571</td>\n",
       "      <td>1.555556</td>\n",
       "      <td>190.085733</td>\n",
       "    </tr>\n",
       "    <tr>\n",
       "      <th>2703</th>\n",
       "      <td>233</td>\n",
       "      <td>2018-11-01</td>\n",
       "      <td>211.6</td>\n",
       "      <td>3.412903</td>\n",
       "      <td>40</td>\n",
       "      <td>1.025000</td>\n",
       "      <td>1.512195</td>\n",
       "      <td>216.597421</td>\n",
       "    </tr>\n",
       "  </tbody>\n",
       "</table>\n",
       "</div>"
      ],
      "text/plain": [
       "      STORE_NBR YEAR_MONTH  TOT_SALES  AVG_PRICE_PER_UNIT  N_CUSTOMERS  \\\n",
       "2699        233 2018-07-01      290.7            3.303409           51   \n",
       "2700        233 2018-08-01      285.9            3.573750           48   \n",
       "2701        233 2018-09-01      228.6            3.265714           42   \n",
       "2702        233 2018-10-01      185.7            3.316071           35   \n",
       "2703        233 2018-11-01      211.6            3.412903           40   \n",
       "\n",
       "      N_CHIPS_CUSTS  N_CHIPS_TXN  factored_sales  \n",
       "2699       1.058824     1.629630      297.565550  \n",
       "2700       1.041667     1.600000      292.652187  \n",
       "2701       1.071429     1.555556      233.998916  \n",
       "2702       1.028571     1.555556      190.085733  \n",
       "2703       1.025000     1.512195      216.597421  "
      ]
     },
     "execution_count": 193,
     "metadata": {},
     "output_type": "execute_result"
    }
   ],
   "source": [
    "control_sales.head()"
   ]
  },
  {
   "cell_type": "code",
   "execution_count": 194,
   "id": "b3ad1ff6-be2d-4821-a754-b3a13f177c4f",
   "metadata": {},
   "outputs": [],
   "source": [
    "c_sales = control_sales.loc[:,['YEAR_MONTH','factored_sales']]\n",
    "c_sales.set_index('YEAR_MONTH',inplace=True)"
   ]
  },
  {
   "cell_type": "code",
   "execution_count": 195,
   "id": "1bde9de7-ac6b-4abe-9865-e6b34b0f5c6c",
   "metadata": {},
   "outputs": [
    {
     "data": {
      "text/html": [
       "<div>\n",
       "<style scoped>\n",
       "    .dataframe tbody tr th:only-of-type {\n",
       "        vertical-align: middle;\n",
       "    }\n",
       "\n",
       "    .dataframe tbody tr th {\n",
       "        vertical-align: top;\n",
       "    }\n",
       "\n",
       "    .dataframe thead th {\n",
       "        text-align: right;\n",
       "    }\n",
       "</style>\n",
       "<table border=\"1\" class=\"dataframe\">\n",
       "  <thead>\n",
       "    <tr style=\"text-align: right;\">\n",
       "      <th></th>\n",
       "      <th>factored_sales</th>\n",
       "    </tr>\n",
       "    <tr>\n",
       "      <th>YEAR_MONTH</th>\n",
       "      <th></th>\n",
       "    </tr>\n",
       "  </thead>\n",
       "  <tbody>\n",
       "    <tr>\n",
       "      <th>2018-07-01</th>\n",
       "      <td>297.565550</td>\n",
       "    </tr>\n",
       "    <tr>\n",
       "      <th>2018-08-01</th>\n",
       "      <td>292.652187</td>\n",
       "    </tr>\n",
       "    <tr>\n",
       "      <th>2018-09-01</th>\n",
       "      <td>233.998916</td>\n",
       "    </tr>\n",
       "    <tr>\n",
       "      <th>2018-10-01</th>\n",
       "      <td>190.085733</td>\n",
       "    </tr>\n",
       "    <tr>\n",
       "      <th>2018-11-01</th>\n",
       "      <td>216.597421</td>\n",
       "    </tr>\n",
       "  </tbody>\n",
       "</table>\n",
       "</div>"
      ],
      "text/plain": [
       "            factored_sales\n",
       "YEAR_MONTH                \n",
       "2018-07-01      297.565550\n",
       "2018-08-01      292.652187\n",
       "2018-09-01      233.998916\n",
       "2018-10-01      190.085733\n",
       "2018-11-01      216.597421"
      ]
     },
     "execution_count": 195,
     "metadata": {},
     "output_type": "execute_result"
    }
   ],
   "source": [
    "c_sales.head()"
   ]
  },
  {
   "cell_type": "code",
   "execution_count": 213,
   "id": "d3a52f07-80ef-4d2d-af0a-0f6e5df0b3dc",
   "metadata": {},
   "outputs": [],
   "source": [
    "c_sales['Control 95% C.I'] = c_sales['factored_sales'] * (1-sd*2)\n",
    "c_sales['Control 5% C.I'] = c_sales['factored_sales'] * (1+sd)"
   ]
  },
  {
   "cell_type": "code",
   "execution_count": 214,
   "id": "1f152864-54cc-4f3e-8e4f-2a6d13cb8f8f",
   "metadata": {},
   "outputs": [],
   "source": [
    "t_sales = pd.concat(df_rollup,join='outer',axis=1)\n",
    "t_sales.reset_index(inplace=True)\n",
    "t_sales['YEAR_MONTH'] = pd.to_datetime(t_sales['YEAR_MONTH'].astype(str),format='%Y%m')"
   ]
  },
  {
   "cell_type": "code",
   "execution_count": 215,
   "id": "589b121b-bd55-49a5-bc08-cd5e1626bb0e",
   "metadata": {},
   "outputs": [],
   "source": [
    "t_sales = t_sales.loc[t_sales['STORE_NBR'] == t_store,['YEAR_MONTH','TOT_SALES']]\n",
    "t_sales.set_index('YEAR_MONTH',inplace=True)"
   ]
  },
  {
   "cell_type": "code",
   "execution_count": 216,
   "id": "4da655c8-7051-4e86-907d-d9de87c8bc37",
   "metadata": {},
   "outputs": [],
   "source": [
    "fin_sales = pd.merge(c_sales,t_sales,left_index=True,right_index=True)"
   ]
  },
  {
   "cell_type": "code",
   "execution_count": 218,
   "id": "8894d988-96be-437d-80c4-cd05fb017eb9",
   "metadata": {},
   "outputs": [],
   "source": [
    "fin_sales.columns = ['Control Sales', 'Control Sales 95% Confidence Interval','Control Sales 5% Confidence Interval','Trial Store Sales']"
   ]
  },
  {
   "cell_type": "code",
   "execution_count": 219,
   "id": "64da5be2-2c12-4960-a02a-9c14ea4a5fd1",
   "metadata": {},
   "outputs": [
    {
     "data": {
      "text/plain": [
       "<AxesSubplot: xlabel='YEAR_MONTH'>"
      ]
     },
     "execution_count": 219,
     "metadata": {},
     "output_type": "execute_result"
    },
    {
     "data": {
      "image/png": "[encoded data removed]",
      "text/plain": [
       "<Figure size 640x480 with 1 Axes>"
      ]
     },
     "metadata": {},
     "output_type": "display_data"
    }
   ],
   "source": [
    "sns.lineplot(data=fin_sales)"
   ]
  },
  {
   "cell_type": "code",
   "execution_count": 226,
   "id": "4dc31ccb-2230-4bcc-a280-7a0b9b1dc97a",
   "metadata": {},
   "outputs": [],
   "source": [
    "cust_data = pre_trial_df\n",
    "cust_data = cust_data.loc[cust_data[(cust_data['STORE_NBR'] == t_store) | (cust_data['STORE_NBR'] == control_store_df.index[0][1])].index]\n",
    "cust_data['store_type'] = np.where(cust_data['STORE_NBR'] == t_store,'Trial Store','Control Store')\n",
    "cust_data['YEAR_MONTH'] = pd.to_numeric(cust_data['YEAR_MONTH'])"
   ]
  },
  {
   "cell_type": "code",
   "execution_count": 239,
   "id": "8f7550a8-d630-4ff8-83c4-dfdd07a47622",
   "metadata": {},
   "outputs": [
    {
     "data": {
      "text/html": [
       "<div>\n",
       "<style scoped>\n",
       "    .dataframe tbody tr th:only-of-type {\n",
       "        vertical-align: middle;\n",
       "    }\n",
       "\n",
       "    .dataframe tbody tr th {\n",
       "        vertical-align: top;\n",
       "    }\n",
       "\n",
       "    .dataframe thead th {\n",
       "        text-align: right;\n",
       "    }\n",
       "</style>\n",
       "<table border=\"1\" class=\"dataframe\">\n",
       "  <thead>\n",
       "    <tr style=\"text-align: right;\">\n",
       "      <th></th>\n",
       "      <th>STORE_NBR</th>\n",
       "      <th>YEAR_MONTH</th>\n",
       "      <th>TOT_SALES</th>\n",
       "      <th>AVG_PRICE_PER_UNIT</th>\n",
       "      <th>N_CUSTOMERS</th>\n",
       "      <th>N_CHIPS_CUSTS</th>\n",
       "      <th>N_CHIPS_TXN</th>\n",
       "    </tr>\n",
       "  </thead>\n",
       "  <tbody>\n",
       "    <tr>\n",
       "      <th>0</th>\n",
       "      <td>1</td>\n",
       "      <td>201807</td>\n",
       "      <td>206.9</td>\n",
       "      <td>3.337097</td>\n",
       "      <td>49</td>\n",
       "      <td>1.061224</td>\n",
       "      <td>1.192308</td>\n",
       "    </tr>\n",
       "  </tbody>\n",
       "</table>\n",
       "</div>"
      ],
      "text/plain": [
       "   STORE_NBR  YEAR_MONTH  TOT_SALES  AVG_PRICE_PER_UNIT  N_CUSTOMERS  \\\n",
       "0          1      201807      206.9            3.337097           49   \n",
       "\n",
       "   N_CHIPS_CUSTS  N_CHIPS_TXN  \n",
       "0       1.061224     1.192308  "
      ]
     },
     "execution_count": 239,
     "metadata": {},
     "output_type": "execute_result"
    }
   ],
   "source": [
    "pre_trial_df.head(1)"
   ]
  },
  {
   "cell_type": "code",
   "execution_count": 235,
   "id": "0b18fca3-47ff-48ed-81d1-7c246f6e86a9",
   "metadata": {},
   "outputs": [],
   "source": [
    "c_custs = cust_data.loc[cust_data['store_type'] == 'Control Store',['YEAR_MONTH','N_CUSTOMERS']]\n",
    "c_custs['YEAR_MONTH'] = pd.to_datetime(c_custs['YEAR_MONTH'],format='%Y%m')\n",
    "c_custs.rename(columns={'N_CUSTOMERS':'Num_Customers_Control_Store'},inplace=True)\n",
    "c_custs.set_index('YEAR_MONTH',inplace=True)\n",
    "t_custs = cust_data.loc[cust_data['store_type'] == 'Trial Store',['YEAR_MONTH','N_CUSTOMERS']]\n",
    "t_custs['YEAR_MONTH'] = pd.to_datetime(t_custs['YEAR_MONTH'],format='%Y%m')\n",
    "t_custs.rename(columns={'N_CUSTOMERS':'Num_Customers_Trial_Store'},inplace=True)\n",
    "t_custs.set_index('YEAR_MONTH',inplace=True)"
   ]
  },
  {
   "cell_type": "code",
   "execution_count": 238,
   "id": "3f50fbe2-948a-4336-9152-fadc7818282b",
   "metadata": {},
   "outputs": [],
   "source": [
    "merged_custs = pd.concat([c_custs,t_custs],axis=1)"
   ]
  },
  {
   "cell_type": "code",
   "execution_count": 241,
   "id": "36b77d12-86e6-447c-8a95-d3c51129d504",
   "metadata": {},
   "outputs": [
    {
     "data": {
      "text/plain": [
       "1.0033557046979866"
      ]
     },
     "execution_count": 241,
     "metadata": {},
     "output_type": "execute_result"
    }
   ],
   "source": [
    "tc = pre_trial_df.loc[pre_trial_df['STORE_NBR'] == t_store,'N_CUSTOMERS'].sum()\n",
    "cc = pre_trial_df.loc[pre_trial_df['STORE_NBR'] == control_store_df.index[0][1],'N_CUSTOMERS'].sum()\n",
    "assess_factor = tc/cc\n",
    "assess_factor"
   ]
  },
  {
   "cell_type": "code",
   "execution_count": 243,
   "id": "7aaedca4-e747-4009-bf21-cdcd3002c58f",
   "metadata": {},
   "outputs": [],
   "source": [
    "c_custs['control customers'] = c_custs['Num_Customers_Control_Store'] * assess_factor"
   ]
  },
  {
   "cell_type": "code",
   "execution_count": 256,
   "id": "45a25fb9-e732-4c18-abfd-29187d1415a7",
   "metadata": {},
   "outputs": [],
   "source": [
    "c_custs = pd.concat(df_rollup,join='outer',axis=1)\n",
    "c_custs.reset_index(inplace=True)\n",
    "c_custs['YEAR_MONTH'] = pd.to_datetime(c_custs['YEAR_MONTH'].astype(str),format='%Y%m')\n",
    "c_custs = c_custs.loc[c_custs['STORE_NBR'] == 233]\n",
    "c_custs = c_custs[['YEAR_MONTH','LYLTY_CARD_NBR']]\n",
    "c_custs.columns = ['YEAR_MONTH','Control Customers']\n",
    "c_custs.reset_index(drop=True,inplace=True)"
   ]
  },
  {
   "cell_type": "code",
   "execution_count": 257,
   "id": "ea1c18bc-53df-4dc1-a79e-2fe9c0b8f43b",
   "metadata": {},
   "outputs": [],
   "source": [
    "t_custs = pd.concat(df_rollup,join='outer',axis=1)\n",
    "t_custs.reset_index(inplace=True)\n",
    "t_custs['YEAR_MONTH'] = pd.to_datetime(t_custs['YEAR_MONTH'].astype(str),format='%Y%m')\n",
    "t_custs = t_custs.loc[t_custs['STORE_NBR'] == 77]\n",
    "t_custs = t_custs[['YEAR_MONTH','LYLTY_CARD_NBR']]\n",
    "t_custs.columns = ['YEAR_MONTH','Trial Customers']\n",
    "t_custs.reset_index(drop=True,inplace=True)"
   ]
  },
  {
   "cell_type": "code",
   "execution_count": 266,
   "id": "b04dbd97-baee-4f9f-81c6-13435e06d9e6",
   "metadata": {},
   "outputs": [],
   "source": [
    "merged_custs = pd.concat([c_custs,t_custs],axis=1)\n",
    "merged_custs.columns = ['YEAR_MONTH','Control_Customers','rem','Trial_Customers']\n",
    "merged_custs.drop(columns='rem',inplace=True)"
   ]
  },
  {
   "cell_type": "code",
   "execution_count": 267,
   "id": "4459351d-7475-4f7f-b43c-796b64491538",
   "metadata": {},
   "outputs": [],
   "source": [
    "merged_custs['Control_Customers'] = merged_custs['Control_Customers'] * assess_factor"
   ]
  },
  {
   "cell_type": "code",
   "execution_count": 268,
   "id": "e66684b5-7e4c-4c8f-a3ef-cc5efbe22537",
   "metadata": {},
   "outputs": [],
   "source": [
    "merged_custs['%diff'] = abs(merged_custs.Control_Customers - merged_custs.Trial_Customers) / merged_custs.Control_Customers"
   ]
  },
  {
   "cell_type": "code",
   "execution_count": 271,
   "id": "75d7a2e6-f5bc-46db-8818-46acff31ac87",
   "metadata": {},
   "outputs": [],
   "source": [
    "merged_custs['YEAR_MONTH'] = merged_custs['YEAR_MONTH'].dt.strftime('%Y%m')\n",
    "merged_custs['YEAR_MONTH'] = pd.to_numeric(merged_custs['YEAR_MONTH'])"
   ]
  },
  {
   "cell_type": "code",
   "execution_count": 272,
   "id": "7c6f884a-5ddd-4770-8726-bf0ea7588689",
   "metadata": {},
   "outputs": [],
   "source": [
    "sd = stdev(merged_custs.loc[merged_custs['YEAR_MONTH'] < 201902,'%diff'])"
   ]
  },
  {
   "cell_type": "code",
   "execution_count": 273,
   "id": "f342b342-b7f7-4ce5-b99e-c98727776005",
   "metadata": {},
   "outputs": [
    {
     "data": {
      "text/plain": [
       "0.018240748558243945"
      ]
     },
     "execution_count": 273,
     "metadata": {},
     "output_type": "execute_result"
    }
   ],
   "source": [
    "sd"
   ]
  },
  {
   "cell_type": "code",
   "execution_count": 274,
   "id": "d24e3fb7-071a-42e3-950f-0f6ef76e5e63",
   "metadata": {},
   "outputs": [],
   "source": [
    "merged_custs['t_val'] = (merged_custs['%diff'] - 0)/sd"
   ]
  },
  {
   "cell_type": "code",
   "execution_count": 276,
   "id": "08d1c1f7-8e22-446f-b849-208596b1f1f6",
   "metadata": {},
   "outputs": [
    {
     "data": {
      "text/plain": [
       "7     0.183352\n",
       "8    13.476388\n",
       "9    30.778725\n",
       "Name: t_val, dtype: float64"
      ]
     },
     "execution_count": 276,
     "metadata": {},
     "output_type": "execute_result"
    }
   ],
   "source": [
    "merged_custs.loc[(merged_custs['YEAR_MONTH'] > 201901) & (merged_custs['YEAR_MONTH'] < 201905),'t_val']"
   ]
  },
  {
   "cell_type": "code",
   "execution_count": 277,
   "id": "e1352ce9-577e-4eb8-a355-96cc1b79849f",
   "metadata": {},
   "outputs": [
    {
     "data": {
      "text/plain": [
       "1.8945786050613054"
      ]
     },
     "execution_count": 277,
     "metadata": {},
     "output_type": "execute_result"
    }
   ],
   "source": [
    "sp.stats.t.isf(0.05,7)"
   ]
  },
  {
   "cell_type": "code",
   "execution_count": null,
   "id": "4aca3a9e-8852-49fe-8f23-003e6d9fe175",
   "metadata": {},
   "outputs": [],
   "source": [
    "controlCustomers['Control 5% Confidence Interval'] = controlCustomers['Control Customers'] * (1 - stdDev*2)\n",
    "controlCustomers['Control 95% Confidence Interval'] = controlCustomers['Control Customers'] * (1 + stdDev*2)\n",
    "controlCustomers"
   ]
  },
  {
   "cell_type": "code",
   "execution_count": 281,
   "id": "6d1c4599-5303-4f96-bd72-7199f8c98468",
   "metadata": {},
   "outputs": [],
   "source": [
    "merged_custs = merged_custs[['YEAR_MONTH','Control_Customers','Trial_Customers']]\n",
    "merged_custs.loc[:,'Control NCustomers 5% Confidence Interval'] = merged_custs['Control_Customers'] * (1- sd*2)\n",
    "merged_custs.loc[:,'Control NCustomers 95% Confidence Interval'] = merged_custs['Control_Customers'] * (1 + sd*2)"
   ]
  },
  {
   "cell_type": "code",
   "execution_count": 286,
   "id": "08942078-6840-4c1b-984f-9c19a1f3f657",
   "metadata": {},
   "outputs": [],
   "source": [
    "merged_custs['YEAR_MONTH'] = pd.to_datetime(merged_custs['YEAR_MONTH'],format='%Y%m')\n",
    "merged_custs.set_index('YEAR_MONTH',inplace=True)"
   ]
  },
  {
   "cell_type": "code",
   "execution_count": 287,
   "id": "7fb277ea-6279-4d6f-bb43-4f95814875c0",
   "metadata": {},
   "outputs": [
    {
     "data": {
      "text/plain": [
       "<AxesSubplot: xlabel='YEAR_MONTH'>"
      ]
     },
     "execution_count": 287,
     "metadata": {},
     "output_type": "execute_result"
    },
    {
     "data": {
      "image/png": "[encoded data removed]",
      "text/plain": [
       "<Figure size 640x480 with 1 Axes>"
      ]
     },
     "metadata": {},
     "output_type": "display_data"
    }
   ],
   "source": [
    "sns.lineplot(data=merged_custs)"
   ]
  },
  {
   "cell_type": "markdown",
   "id": "5398ed33-631e-4082-8727-dd14adc8945d",
   "metadata": {},
   "source": [
    "## Conclusion"
   ]
  },
  {
   "cell_type": "markdown",
   "id": "0037b448-9c3c-45da-9af1-945c95632b69",
   "metadata": {},
   "source": [
    "#### Trial store 77\n",
    "- The sales of store 77 lies outside the 5% and in 2 of 3 trial months.\n",
    "#### Trial store 86\n",
    "- Performance lies within the 5% and 95% CI, not significantly different to its control store.\n",
    "- The trial had a significant impact on increasing the number of customers, as the # of customers is significantly higher in all trial months. However sales trend doesn't match this. We must check if there were sales in the trial store that may have caused this.\n",
    "#### Trial store 88\n",
    "- Sales performance is significantly different to control store.\n",
    "- The # of customers for the trial store in trial period is significantly higher than the control store for 2 of the 3 months period."
   ]
  }
 ],
 "metadata": {
  "kernelspec": {
   "display_name": "Python 3 (ipykernel)",
   "language": "python",
   "name": "python3"
  },
  "language_info": {
   "codemirror_mode": {
    "name": "ipython",
    "version": 3
   },
   "file_extension": ".py",
   "mimetype": "text/x-python",
   "name": "python",
   "nbconvert_exporter": "python",
   "pygments_lexer": "ipython3",
   "version": "3.10.8"
  }
 },
 "nbformat": 4,
 "nbformat_minor": 5
}
