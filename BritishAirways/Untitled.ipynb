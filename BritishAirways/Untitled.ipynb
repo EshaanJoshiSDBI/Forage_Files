{
 "cells": [
  {
   "cell_type": "code",
   "execution_count": 1,
   "id": "3a019ca7-7ae4-420c-a70f-2624986b4808",
   "metadata": {},
   "outputs": [],
   "source": [
    "import requests\n",
    "from bs4 import BeautifulSoup as bsp\n",
    "from selenium import webdriver\n",
    "from selenium.webdriver.chrome.options import Options\n",
    "import pandas as pd\n",
    "import re"
   ]
  },
  {
   "cell_type": "code",
   "execution_count": 2,
   "id": "76af59e6-ccdc-44d3-a091-a70251aa1052",
   "metadata": {},
   "outputs": [
    {
     "name": "stderr",
     "output_type": "stream",
     "text": [
      "/tmp/ipykernel_19311/1784985630.py:8: DeprecationWarning: executable_path has been deprecated, please pass in a Service object\n",
      "  driver = webdriver.Chrome(executable_path='/usr/bin/chromedriver')\n"
     ]
    }
   ],
   "source": [
    "chrome_options = Options()\n",
    "options = webdriver.ChromeOptions()\n",
    "options.binary_location = '/usr/bin/chromium'\n",
    "options.add_argument(\"--headless\")\n",
    "options.add_argument(\"--disable-dev-shm-usage\")\n",
    "options.add_argument(\"--no-sandbox\")\n",
    "options.add_argument(\"--disable-gpu\")\n",
    "driver = webdriver.Chrome(executable_path='/usr/bin/chromedriver')\n",
    "driver.get('https://www.airlinequality.com/airline-reviews/british-airways/?sortby=post_date%3ADesc&pagesize=100')\n",
    "soup = bsp(driver.page_source,'lxml')"
   ]
  },
  {
   "cell_type": "code",
   "execution_count": 190,
   "id": "a225c8d4-efd6-45a3-af89-1113d1cf9990",
   "metadata": {},
   "outputs": [],
   "source": [
    "r = requests.get('https://www.airlinequality.com/airline-reviews/british-airways/?sortby=post_date%3ADesc&pagesize=100')"
   ]
  },
  {
   "cell_type": "code",
   "execution_count": 191,
   "id": "8ed4cef8-4be0-4862-b0c3-7b10b32d3ee4",
   "metadata": {},
   "outputs": [
    {
     "name": "stdout",
     "output_type": "stream",
     "text": [
      "<Response [200]>\n"
     ]
    }
   ],
   "source": [
    "print(r)"
   ]
  },
  {
   "cell_type": "code",
   "execution_count": 23,
   "id": "97884dd7-d216-4486-b17c-f4af5f81d951",
   "metadata": {},
   "outputs": [],
   "source": [
    "data = []"
   ]
  },
  {
   "cell_type": "code",
   "execution_count": 192,
   "id": "54735d11-95dd-4d5c-b8cb-fe45f2ed82ed",
   "metadata": {},
   "outputs": [],
   "source": [
    "soup = bsp(r.content,'html.parser')"
   ]
  },
  {
   "cell_type": "code",
   "execution_count": null,
   "id": "1d506a85-7346-43f3-b494-7bbd44b3b798",
   "metadata": {},
   "outputs": [],
   "source": [
    "html.js.flexbox.canvas.canvastext.webgl.no-touch.geolocation.postmessage.no-websqldatabase.indexeddb.hashchange.history.draganddrop.websockets.rgba.hsla.multiplebgs.backgroundsize.borderimage.borderradius.boxshadow.textshadow.opacity.cssanimations.csscolumns.cssgradients.no-cssreflections.csstransforms.csstransforms3d.csstransitions.fontface.generatedcontent.video.audio.localstorage.sessionstorage.webworkers.applicationcache.svg.inlinesvg.smil.svgclippaths.flexboxlegacy.has-cookie-bar.cookie-bar-top-bar.cookie-bar-bar body.archive.post-type-archive.post-type-archive-review_airline.js-legacy-header div#container div#content div#inner-content.clearfix div#main section.layout-section.layout-2.closer-top div.col-content article.comp.comp_reviews-airline.querylist.position-content article.comp.comp_media-review-rated.list-item.media.position-content.review-817666"
   ]
  },
  {
   "cell_type": "code",
   "execution_count": 6,
   "id": "dbb1e839-a2b3-40df-9e08-41a4a6f0786d",
   "metadata": {},
   "outputs": [],
   "source": [
    "reviews = soup.find_all('article',itemprop='review')"
   ]
  },
  {
   "cell_type": "code",
   "execution_count": 24,
   "id": "1b0b4acf-c187-4f4f-8277-810198320650",
   "metadata": {},
   "outputs": [],
   "source": [
    "for i in reviews:\n",
    "    temp = []\n",
    "    rating = i.find_all('span',itemprop='ratingValue')\n",
    "    temp.append(int([i.text for i in rating][0]))\n",
    "    flight_info = i.select('table.review-ratings>tbody>tr>td.review-value')\n",
    "    for ii in flight_info:\n",
    "        temp.append(ii.text)\n",
    "    flight_ratings = i.select('table.review-ratings>tbody>tr>td.review-rating-stars>span.star')\n",
    "    temp.append([ii for ii in [str(iii).count('star fill') for iii in flight_ratings[:5]]].count(1))\n",
    "    temp.append([ii for ii in [str(iii).count('star fill') for iii in flight_ratings[5:10]]].count(1))\n",
    "    temp.append([ii for ii in [str(iii).count('star fill') for iii in flight_ratings[10:15]]].count(1))\n",
    "    temp.append([ii for ii in [str(iii).count('star fill') for iii in flight_ratings[15:20]]].count(1))\n",
    "    temp.append([ii for ii in [str(iii).count('star fill') for iii in flight_ratings[20:25]]].count(1))\n",
    "    temp.append([ii for ii in [str(iii).count('star fill') for iii in flight_ratings[25:30]]].count(1))\n",
    "    temp.append([ii for ii in [str(iii).count('star fill') for iii in flight_ratings[30:35]]].count(1))\n",
    "    temp.append([ii.text for i in flight_ratings][-1])\n",
    "    data.append(temp)"
   ]
  },
  {
   "cell_type": "code",
   "execution_count": 26,
   "id": "2379dfe4-2e8c-4674-bc85-8527f6394a93",
   "metadata": {},
   "outputs": [],
   "source": [
    "df = pd.DataFrame(data)"
   ]
  },
  {
   "cell_type": "code",
   "execution_count": 27,
   "id": "0da28477-b72c-454e-89ae-b094d5512cb6",
   "metadata": {},
   "outputs": [],
   "source": [
    "df.to_csv('scrapped_data_2.csv',index=False)"
   ]
  },
  {
   "cell_type": "code",
   "execution_count": null,
   "id": "8f5829ff-aeab-42cd-a422-5ed98a052785",
   "metadata": {},
   "outputs": [],
   "source": [
    "rating = reviews.find_all('span',itemprop='ratingValue')"
   ]
  },
  {
   "cell_type": "code",
   "execution_count": 121,
   "id": "71df42a5-4f6e-4e6c-b7eb-f682dfc708be",
   "metadata": {},
   "outputs": [],
   "source": [
    "l = reviews.select('table.review-ratings>tr>td.review-value')"
   ]
  },
  {
   "cell_type": "code",
   "execution_count": 126,
   "id": "866f2012-4214-4fa3-a25d-58d7b8fab5fd",
   "metadata": {},
   "outputs": [],
   "source": [
    "l = reviews.select('table.review-ratings>tr>td.review-rating-stars>span.star')"
   ]
  },
  {
   "cell_type": "code",
   "execution_count": 169,
   "id": "4d10d4a0-9427-427a-b07e-9492e0fe8a31",
   "metadata": {},
   "outputs": [],
   "source": [
    "l = reviews.select('table.review-ratings>tr>td.review-value')"
   ]
  },
  {
   "cell_type": "code",
   "execution_count": 55,
   "id": "c2b99ec8-5655-44f4-b888-f6df58cc1451",
   "metadata": {},
   "outputs": [],
   "source": [
    "l = reviews.find_all('table',class_='review-ratings')"
   ]
  },
  {
   "cell_type": "code",
   "execution_count": 142,
   "id": "e7abd2a6-8174-46dd-b791-4c13057fc04d",
   "metadata": {},
   "outputs": [],
   "source": [
    "temp = []\n",
    "for i in l[10:15]:\n",
    "    temp.append(str(i).count('star fill'))"
   ]
  },
  {
   "cell_type": "code",
   "execution_count": 166,
   "id": "d00f7597-956a-436e-8802-67a12ed64848",
   "metadata": {},
   "outputs": [
    {
     "data": {
      "text/plain": [
       "35"
      ]
     },
     "execution_count": 166,
     "metadata": {},
     "output_type": "execute_result"
    }
   ],
   "source": [
    "len(l)"
   ]
  },
  {
   "cell_type": "code",
   "execution_count": 165,
   "id": "d8e92e92-a178-40bb-ab61-6e810c423139",
   "metadata": {},
   "outputs": [],
   "source": [
    "for i in l[35:]:\n",
    "    print(i)"
   ]
  },
  {
   "cell_type": "code",
   "execution_count": 161,
   "id": "d38c1cf2-6051-4ab6-9d9b-f431b19aeb69",
   "metadata": {},
   "outputs": [],
   "source": [
    "sc = [i for i in [str(iii).count('star fill') for iii in l[35:40]]].count(1)"
   ]
  },
  {
   "cell_type": "code",
   "execution_count": 162,
   "id": "6eb881e7-ecda-4c9f-b02f-cb4dfb6e661b",
   "metadata": {},
   "outputs": [
    {
     "data": {
      "text/plain": [
       "0"
      ]
     },
     "execution_count": 162,
     "metadata": {},
     "output_type": "execute_result"
    }
   ],
   "source": [
    "sc"
   ]
  },
  {
   "cell_type": "code",
   "execution_count": 130,
   "id": "92ea6f7a-cbe9-45ab-b692-08d4acd292e6",
   "metadata": {},
   "outputs": [
    {
     "data": {
      "text/plain": [
       "2"
      ]
     },
     "execution_count": 130,
     "metadata": {},
     "output_type": "execute_result"
    }
   ],
   "source": [
    "temp.count(1)"
   ]
  },
  {
   "cell_type": "code",
   "execution_count": 33,
   "id": "7d8d2ed0-ac1b-46bb-a9e3-af2f610a9e5d",
   "metadata": {},
   "outputs": [
    {
     "data": {
      "text/plain": [
       "[<td class=\"review-rating-header aircraft\">Aircraft</td>,\n",
       " <td class=\"review-rating-header aircraft\">Aircraft</td>,\n",
       " <td class=\"review-rating-header aircraft\">Aircraft</td>,\n",
       " <td class=\"review-rating-header aircraft\">Aircraft</td>,\n",
       " <td class=\"review-rating-header aircraft\">Aircraft</td>]"
      ]
     },
     "execution_count": 33,
     "metadata": {},
     "output_type": "execute_result"
    }
   ],
   "source": [
    "l = soup.findChildren('td',class_='review-rating-header aircraft')"
   ]
  }
 ],
 "metadata": {
  "kernelspec": {
   "display_name": "Python 3 (ipykernel)",
   "language": "python",
   "name": "python3"
  },
  "language_info": {
   "codemirror_mode": {
    "name": "ipython",
    "version": 3
   },
   "file_extension": ".py",
   "mimetype": "text/x-python",
   "name": "python",
   "nbconvert_exporter": "python",
   "pygments_lexer": "ipython3",
   "version": "3.10.8"
  }
 },
 "nbformat": 4,
 "nbformat_minor": 5
}
